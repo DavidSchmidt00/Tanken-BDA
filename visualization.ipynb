{
 "cells": [
  {
   "cell_type": "markdown",
   "metadata": {},
   "source": [
    "## Visualization Script for MongoDB Data"
   ]
  },
  {
   "cell_type": "code",
   "execution_count": 6,
   "metadata": {},
   "outputs": [],
   "source": [
    "import pymongo\n",
    "import pprint as p\n",
    "import numpy as np\n",
    "import pandas as pd\n",
    "from matplotlib import pyplot as plt"
   ]
  },
  {
   "cell_type": "code",
   "execution_count": 7,
   "metadata": {},
   "outputs": [],
   "source": [
    "client = pymongo.MongoClient('localhost', 27017)"
   ]
  },
  {
   "cell_type": "code",
   "execution_count": 8,
   "metadata": {},
   "outputs": [],
   "source": [
    "db = client.tanken\n",
    "preise = db.preise\n",
    "stationen = db.stationen\n",
    "res = []"
   ]
  },
  {
   "cell_type": "markdown",
   "metadata": {},
   "source": [
    "### Average price of E5, E10 and Diesel in 2020 total"
   ]
  },
  {
   "cell_type": "code",
   "execution_count": 24,
   "metadata": {},
   "outputs": [],
   "source": [
    "#MongoDB Query - takes a while\n",
    "res = preise.aggregate([\n",
    "    {\n",
    "        \"$group\" : {\"_id\": \"null\" , \"e10\": {\"$avg\": \"$e10\"},\"e5\": {\"$avg\": \"$e5\"},\"diesel\": {\"$avg\": \"$diesel\"}}\n",
    "    }\n",
    "])\n",
    "result = list(res)"
   ]
  },
  {
   "cell_type": "code",
   "execution_count": 25,
   "metadata": {},
   "outputs": [
    {
     "name": "stdout",
     "output_type": "stream",
     "text": [
      "Durchschnittliche Preise in 2020 nach Kategorie\n",
      "E10: 1.2092071354722296\n",
      "E05: 1.27504803260726\n",
      "Diesel: 1.1118849282747298\n"
     ]
    }
   ],
   "source": [
    "prices = result[0]\n",
    "print(\"Durchschnittliche Preise in 2020 nach Kategorie\")\n",
    "print(\"E10: \"+ str(prices[\"e10\"]))\n",
    "print(\"E05: \"+ str(prices[\"e5\"]))\n",
    "print(\"Diesel: \"+ str(prices[\"diesel\"]))"
   ]
  },
  {
   "cell_type": "markdown",
   "metadata": {},
   "source": [
    "### Average E5, E10 and Diesel price per month in 2020"
   ]
  },
  {
   "cell_type": "code",
   "execution_count": 26,
   "metadata": {},
   "outputs": [],
   "source": [
    "#MongoDB Query - Avg. E10/E05 prices - takes a while\n",
    "res = preise.aggregate([\n",
    "    {\n",
    "        \"$group\" : {\"_id\": \"$date\" , \"e5\": {\"$avg\": \"$e5\"}, \"e10\": {\"$avg\": \"$e10\"}}\n",
    "    }\n",
    "])\n",
    "pricesEClass = list(res)"
   ]
  },
  {
   "cell_type": "code",
   "execution_count": 27,
   "metadata": {},
   "outputs": [],
   "source": [
    "#MongoDB Query - Avg. Diesel prices - takes a while\n",
    "res = preise.aggregate([\n",
    "    {\n",
    "        \"$group\" : {\"_id\": \"$date\" , \"diesel\": {\"$avg\": \"$diesel\"}}\n",
    "    }\n",
    "])\n",
    "pricesDiesel = list(res)"
   ]
  },
  {
   "cell_type": "code",
   "execution_count": null,
   "metadata": {},
   "outputs": [],
   "source": []
  },
  {
   "cell_type": "code",
   "execution_count": 28,
   "metadata": {},
   "outputs": [],
   "source": [
    "def getMonths(l):\n",
    "    month = []\n",
    "    for element in l:\n",
    "        month.append(element[\"_id\"][5:7])\n",
    "    a = list(set(month))\n",
    "    a.sort()\n",
    "    return a\n",
    "\n",
    "def getAvgPriceOfMonth(month, l, cat):\n",
    "    price = 0\n",
    "    count = 0\n",
    "    for element in l:\n",
    "        if element[\"_id\"][5:7] == month:\n",
    "            price = price + element[cat]\n",
    "            count = count + 1\n",
    "    price = price / count\n",
    "    return price\n",
    "\n",
    "def getPriceOfMonths(l, cat):\n",
    "    print(\"Durchschnittliche Preise pro Monat von: \" + cat)\n",
    "    months = getMonths(l)\n",
    "    pricesDict = []\n",
    "    prices = []\n",
    "    for month in months:\n",
    "        price = getAvgPriceOfMonth(month, l, cat)\n",
    "        prices.append(price)\n",
    "        pricesDict.append({\"Monat\": month, \"Preis\": price})\n",
    "        print(\"Monat: \" + month+\" | Durchschnittlicher Preis: \"+ str(price))\n",
    "    return pricesDict, prices, months"
   ]
  },
  {
   "cell_type": "code",
   "execution_count": 29,
   "metadata": {},
   "outputs": [
    {
     "name": "stdout",
     "output_type": "stream",
     "text": [
      "Durchschnittliche Preise pro Monat von: e5\n",
      "Monat: 01 | Durchschnittlicher Preis: 1.3809709460691029\n",
      "Monat: 02 | Durchschnittlicher Preis: 1.369651922929607\n",
      "Monat: 03 | Durchschnittlicher Preis: 1.2740411152446394\n",
      "Monat: 04 | Durchschnittlicher Preis: 1.1639490629888167\n",
      "Monat: 05 | Durchschnittlicher Preis: 1.1596067276434443\n",
      "Monat: 06 | Durchschnittlicher Preis: 1.2282043897184967\n",
      "Monat: 07 | Durchschnittlicher Preis: 1.2535407977442299\n",
      "Monat: 08 | Durchschnittlicher Preis: 1.2446060539947743\n",
      "Monat: 09 | Durchschnittlicher Preis: 1.24132803012062\n",
      "Monat: 10 | Durchschnittlicher Preis: 1.2306790167741468\n",
      "Monat: 11 | Durchschnittlicher Preis: 1.1879558184113654\n"
     ]
    }
   ],
   "source": [
    "monthDictE5, pricesE5, monthsE5 = getPriceOfMonths(pricesEClass, \"e5\")"
   ]
  },
  {
   "cell_type": "code",
   "execution_count": 30,
   "metadata": {},
   "outputs": [
    {
     "name": "stdout",
     "output_type": "stream",
     "text": [
      "Durchschnittliche Preise pro Monat von: e10\n",
      "Monat: 01 | Durchschnittlicher Preis: 1.30897259178415\n",
      "Monat: 02 | Durchschnittlicher Preis: 1.285275932764745\n",
      "Monat: 03 | Durchschnittlicher Preis: 1.1897528740154848\n",
      "Monat: 04 | Durchschnittlicher Preis: 1.0884780636680933\n",
      "Monat: 05 | Durchschnittlicher Preis: 1.0761478887482752\n",
      "Monat: 06 | Durchschnittlicher Preis: 1.1426070264700603\n",
      "Monat: 07 | Durchschnittlicher Preis: 1.1601250803569079\n",
      "Monat: 08 | Durchschnittlicher Preis: 1.1514669124804522\n",
      "Monat: 09 | Durchschnittlicher Preis: 1.1492240240170315\n",
      "Monat: 10 | Durchschnittlicher Preis: 1.13293027554719\n",
      "Monat: 11 | Durchschnittlicher Preis: 1.0906952574675215\n"
     ]
    }
   ],
   "source": [
    "monthDictE10, pricesE10, monthsE10 = getPriceOfMonths(pricesEClass, \"e10\")"
   ]
  },
  {
   "cell_type": "code",
   "execution_count": 31,
   "metadata": {},
   "outputs": [
    {
     "name": "stdout",
     "output_type": "stream",
     "text": [
      "Durchschnittliche Preise pro Monat von: diesel\n",
      "Monat: 01 | Durchschnittlicher Preis: 1.2934095407590105\n",
      "Monat: 02 | Durchschnittlicher Preis: 1.2321420778009649\n",
      "Monat: 03 | Durchschnittlicher Preis: 1.1439764428697003\n",
      "Monat: 04 | Durchschnittlicher Preis: 1.0726133613955449\n",
      "Monat: 05 | Durchschnittlicher Preis: 1.0419652863005462\n",
      "Monat: 06 | Durchschnittlicher Preis: 1.0793916271860222\n",
      "Monat: 07 | Durchschnittlicher Preis: 1.0831937992088532\n",
      "Monat: 08 | Durchschnittlicher Preis: 1.0741834315383334\n",
      "Monat: 09 | Durchschnittlicher Preis: 1.0422071083021294\n",
      "Monat: 10 | Durchschnittlicher Preis: 1.0364162958660041\n",
      "Monat: 11 | Durchschnittlicher Preis: 1.0233096240470723\n"
     ]
    }
   ],
   "source": [
    "monthDictDiesel, pricesD, monthsDiesel = getPriceOfMonths(pricesDiesel, \"diesel\")"
   ]
  },
  {
   "cell_type": "markdown",
   "metadata": {},
   "source": [
    "# Monatlicher Preisverlauf von E10"
   ]
  },
  {
   "cell_type": "code",
   "execution_count": 32,
   "metadata": {},
   "outputs": [
    {
     "data": {
      "image/png": "[encoded data removed]",
      "text/plain": [
       "<Figure size 648x432 with 1 Axes>"
      ]
     },
     "metadata": {
      "needs_background": "light"
     },
     "output_type": "display_data"
    }
   ],
   "source": [
    "F = plt.gcf()\n",
    "Size = F.get_size_inches()\n",
    "F.set_size_inches(Size[0]*1.5, Size[1]*1.5, forward=True)\n",
    "plt.plot(monthsE10, pricesE10)\n",
    "plt.xlabel('Monat')\n",
    "plt.ylabel('Preis pro Liter in Euro')\n",
    "plt.show()"
   ]
  },
  {
   "cell_type": "markdown",
   "metadata": {},
   "source": [
    "# Monatlicher Preisverlauf von E5"
   ]
  },
  {
   "cell_type": "code",
   "execution_count": 33,
   "metadata": {},
   "outputs": [
    {
     "data": {
      "image/png": "[encoded data removed]",
      "text/plain": [
       "<Figure size 648x432 with 1 Axes>"
      ]
     },
     "metadata": {
      "needs_background": "light"
     },
     "output_type": "display_data"
    }
   ],
   "source": [
    "F = plt.gcf()\n",
    "Size = F.get_size_inches()\n",
    "F.set_size_inches(Size[0]*1.5, Size[1]*1.5, forward=True)\n",
    "plt.plot(monthsE5, pricesE5)\n",
    "plt.xlabel('Monat')\n",
    "plt.ylabel('Preis pro Liter in Euro')\n",
    "plt.show()"
   ]
  },
  {
   "cell_type": "markdown",
   "metadata": {},
   "source": [
    "# Monatlicher Preisverlauf von Diesel"
   ]
  },
  {
   "cell_type": "code",
   "execution_count": 34,
   "metadata": {},
   "outputs": [
    {
     "data": {
      "image/png": "[encoded data removed]",
      "text/plain": [
       "<Figure size 648x432 with 1 Axes>"
      ]
     },
     "metadata": {
      "needs_background": "light"
     },
     "output_type": "display_data"
    }
   ],
   "source": [
    "F = plt.gcf()\n",
    "Size = F.get_size_inches()\n",
    "F.set_size_inches(Size[0]*1.5, Size[1]*1.5, forward=True)\n",
    "plt.plot(monthsDiesel, pricesD)\n",
    "plt.xlabel('Monat')\n",
    "plt.ylabel('Preis pro Liter in Euro')\n",
    "plt.show()"
   ]
  },
  {
   "cell_type": "markdown",
   "metadata": {},
   "source": [
    "### E10, E5 und Diesel im Vergleich"
   ]
  },
  {
   "cell_type": "code",
   "execution_count": 35,
   "metadata": {},
   "outputs": [
    {
     "data": {
      "image/png": "[encoded data removed]",
      "text/plain": [
       "<Figure size 648x432 with 1 Axes>"
      ]
     },
     "metadata": {
      "needs_background": "light"
     },
     "output_type": "display_data"
    }
   ],
   "source": [
    "F = plt.gcf()\n",
    "Size = F.get_size_inches()\n",
    "F.set_size_inches(Size[0]*1.5, Size[1]*1.5, forward=True)\n",
    "plt.plot(monthsDiesel, pricesD)\n",
    "plt.plot(monthsE5, pricesE5)\n",
    "plt.plot(monthsE10, pricesE10)\n",
    "plt.legend(['Diesel','E5','E10'])\n",
    "plt.xlabel('Monat')\n",
    "plt.ylabel('Preis pro Liter in Euro')\n",
    "plt.show()"
   ]
  },
  {
   "cell_type": "markdown",
   "metadata": {},
   "source": [
    "### Average price per day during year"
   ]
  },
  {
   "cell_type": "code",
   "execution_count": 36,
   "metadata": {},
   "outputs": [],
   "source": [
    "def getPricesPerDayCat(l,date,cat):\n",
    "    dayPrices = []\n",
    "    price = 0\n",
    "    count = 0\n",
    "    for element in l:\n",
    "        if element[\"_id\"][0:10] == date:\n",
    "            dayPrices.append(element[cat])\n",
    "            price = price + (element[cat])\n",
    "            count = count + 1\n",
    "    return dayPrices, (price/count)\n",
    "\n",
    "\n",
    "def getDates(l):\n",
    "    dates = []\n",
    "    for element in l:\n",
    "        dates.append(element[\"_id\"][0:10])\n",
    "    a = list(set(dates))\n",
    "    a.sort()\n",
    "    return a\n",
    "\n",
    "def getAvgPricePerDay(l, cat):\n",
    "    dates = getDates(l)\n",
    "    priceDict = []\n",
    "    prices = []\n",
    "    for date in dates:\n",
    "        dayPrices, avgPrice = getPricesPerDayCat(l, date, cat)\n",
    "        priceDict.append({\"Tag\":date,\"Preis\":avgPrice })\n",
    "        prices.append(avgPrice)\n",
    "    return priceDict, prices, dates"
   ]
  },
  {
   "cell_type": "code",
   "execution_count": 37,
   "metadata": {},
   "outputs": [],
   "source": [
    "dieselyear, prices, dates = getAvgPricePerDay(pricesDiesel,\"diesel\")"
   ]
  },
  {
   "cell_type": "markdown",
   "metadata": {},
   "source": [
    "## Preisverlauf von Diesel im Jahr 2020 (Jeder Tag)"
   ]
  },
  {
   "cell_type": "code",
   "execution_count": 38,
   "metadata": {},
   "outputs": [
    {
     "data": {
      "image/png": "[encoded data removed]",
      "text/plain": [
       "<Figure size 648x432 with 1 Axes>"
      ]
     },
     "metadata": {
      "needs_background": "light"
     },
     "output_type": "display_data"
    }
   ],
   "source": [
    "F = plt.gcf()\n",
    "Size = F.get_size_inches()\n",
    "F.set_size_inches(Size[0]*1.5, Size[1]*1.5, forward=True)\n",
    "plt.plot(dates, prices)\n",
    "plt.xlabel('Durchschnittlicher Preis pro Tag in 2020')\n",
    "plt.ylabel('Preis pro Liter in Euro')\n",
    "plt.show()"
   ]
  },
  {
   "cell_type": "markdown",
   "metadata": {},
   "source": [
    "## Average price during day"
   ]
  },
  {
   "cell_type": "code",
   "execution_count": 39,
   "metadata": {},
   "outputs": [],
   "source": [
    "def getHours(l):\n",
    "    hours = []\n",
    "    for element in l:\n",
    "        hours.append(element[\"_id\"][11:13])\n",
    "    a = list(set(hours))\n",
    "    a.sort()\n",
    "    return a\n",
    "\n",
    "def getAvgPriceAtHour(l, date, time, cat):\n",
    "    price = 0\n",
    "    count = 0\n",
    "    for element in l:\n",
    "        if(element[\"_id\"][0:10] == date):\n",
    "            if (element[\"_id\"][11:13] == time):\n",
    "                price = price + element[cat]\n",
    "                count = count + 1\n",
    "    if count == 0:\n",
    "        count = 1\n",
    "    return (price/count)\n",
    "\n",
    "def getAvgPriceEveryHour(l,date,cat):\n",
    "    print(\"Tag: \" + date + \", Kategorie: \" +cat)\n",
    "    hours = getHours(l)\n",
    "    priceDict = []\n",
    "    prices = []\n",
    "    for hour in hours:\n",
    "        hourPrice = getAvgPriceAtHour(l, date, hour, cat)\n",
    "        priceDict.append({\"Stunde\": hour, \"Preis\": hourPrice})\n",
    "        prices.append(hourPrice)\n",
    "       # print(hour+\":00 - \"+hour+\":59 Uhr | Durchschnittspreis: \" + str(hourPrice))\n",
    "    return priceDict, prices, hours\n",
    "\n",
    "def getAvgPriceEveryHourTotal(l,cat):\n",
    "    print(\"Durchschnittlicher Tagesverlauf in 2020, Kategorie: \" + cat)\n",
    "    dates = getDates(l)\n",
    "    pricesTotal = []\n",
    "    count = 0\n",
    "    for i in range(0,24):\n",
    "        pricesTotal.append(0)\n",
    "    for date in dates:\n",
    "        priceDict, dayPrices, dayHours = getAvgPriceEveryHour(l,date,cat)\n",
    "        i = 0\n",
    "        while i < len(dayPrices):\n",
    "            if count > 0:\n",
    "                if dayPrices[i] != 0:\n",
    "                    pricesTotal[i] = (pricesTotal[i] + dayPrices[i])/2\n",
    "            else:\n",
    "                pricesTotal[i] = (pricesTotal[i] + dayPrices[i])\n",
    "            i = i + 1\n",
    "            count = count + 1\n",
    "    return pricesTotal"
   ]
  },
  {
   "cell_type": "code",
   "execution_count": 40,
   "metadata": {},
   "outputs": [
    {
     "name": "stdout",
     "output_type": "stream",
     "text": [
      "Durchschnittlicher Tagesverlauf in 2020, Kategorie: e5\n",
      "Tag: 2020-01-01, Kategorie: e5\n",
      "Tag: 2020-01-02, Kategorie: e5\n",
      "Tag: 2020-01-03, Kategorie: e5\n",
      "Tag: 2020-01-04, Kategorie: e5\n",
      "Tag: 2020-01-05, Kategorie: e5\n",
      "Tag: 2020-01-06, Kategorie: e5\n",
      "Tag: 2020-01-07, Kategorie: e5\n",
      "Tag: 2020-01-08, Kategorie: e5\n",
      "Tag: 2020-01-09, Kategorie: e5\n",
      "Tag: 2020-01-10, Kategorie: e5\n",
      "Tag: 2020-01-11, Kategorie: e5\n",
      "Tag: 2020-01-12, Kategorie: e5\n",
      "Tag: 2020-01-13, Kategorie: e5\n",
      "Tag: 2020-01-14, Kategorie: e5\n",
      "Tag: 2020-01-15, Kategorie: e5\n",
      "Tag: 2020-01-16, Kategorie: e5\n",
      "Tag: 2020-01-17, Kategorie: e5\n",
      "Tag: 2020-01-18, Kategorie: e5\n",
      "Tag: 2020-01-19, Kategorie: e5\n",
      "Tag: 2020-01-20, Kategorie: e5\n",
      "Tag: 2020-01-21, Kategorie: e5\n",
      "Tag: 2020-01-22, Kategorie: e5\n",
      "Tag: 2020-01-23, Kategorie: e5\n",
      "Tag: 2020-01-24, Kategorie: e5\n",
      "Tag: 2020-01-25, Kategorie: e5\n",
      "Tag: 2020-01-26, Kategorie: e5\n",
      "Tag: 2020-01-27, Kategorie: e5\n",
      "Tag: 2020-01-28, Kategorie: e5\n",
      "Tag: 2020-01-29, Kategorie: e5\n",
      "Tag: 2020-01-30, Kategorie: e5\n",
      "Tag: 2020-01-31, Kategorie: e5\n",
      "Tag: 2020-02-01, Kategorie: e5\n",
      "Tag: 2020-02-02, Kategorie: e5\n",
      "Tag: 2020-02-03, Kategorie: e5\n",
      "Tag: 2020-02-04, Kategorie: e5\n",
      "Tag: 2020-02-05, Kategorie: e5\n",
      "Tag: 2020-02-06, Kategorie: e5\n",
      "Tag: 2020-02-07, Kategorie: e5\n",
      "Tag: 2020-02-08, Kategorie: e5\n",
      "Tag: 2020-02-09, Kategorie: e5\n",
      "Tag: 2020-02-10, Kategorie: e5\n",
      "Tag: 2020-02-11, Kategorie: e5\n",
      "Tag: 2020-02-12, Kategorie: e5\n",
      "Tag: 2020-02-13, Kategorie: e5\n",
      "Tag: 2020-02-14, Kategorie: e5\n",
      "Tag: 2020-02-15, Kategorie: e5\n",
      "Tag: 2020-02-16, Kategorie: e5\n",
      "Tag: 2020-02-17, Kategorie: e5\n",
      "Tag: 2020-02-18, Kategorie: e5\n",
      "Tag: 2020-02-19, Kategorie: e5\n",
      "Tag: 2020-02-20, Kategorie: e5\n",
      "Tag: 2020-02-21, Kategorie: e5\n",
      "Tag: 2020-02-22, Kategorie: e5\n",
      "Tag: 2020-02-23, Kategorie: e5\n",
      "Tag: 2020-02-24, Kategorie: e5\n",
      "Tag: 2020-02-25, Kategorie: e5\n",
      "Tag: 2020-02-26, Kategorie: e5\n",
      "Tag: 2020-02-27, Kategorie: e5\n",
      "Tag: 2020-02-28, Kategorie: e5\n",
      "Tag: 2020-02-29, Kategorie: e5\n",
      "Tag: 2020-03-01, Kategorie: e5\n",
      "Tag: 2020-03-02, Kategorie: e5\n",
      "Tag: 2020-03-03, Kategorie: e5\n",
      "Tag: 2020-03-04, Kategorie: e5\n",
      "Tag: 2020-03-05, Kategorie: e5\n",
      "Tag: 2020-03-06, Kategorie: e5\n",
      "Tag: 2020-03-07, Kategorie: e5\n",
      "Tag: 2020-03-08, Kategorie: e5\n",
      "Tag: 2020-03-09, Kategorie: e5\n",
      "Tag: 2020-03-10, Kategorie: e5\n",
      "Tag: 2020-03-11, Kategorie: e5\n",
      "Tag: 2020-03-12, Kategorie: e5\n",
      "Tag: 2020-03-13, Kategorie: e5\n",
      "Tag: 2020-03-14, Kategorie: e5\n",
      "Tag: 2020-03-15, Kategorie: e5\n",
      "Tag: 2020-03-16, Kategorie: e5\n",
      "Tag: 2020-03-17, Kategorie: e5\n",
      "Tag: 2020-03-18, Kategorie: e5\n",
      "Tag: 2020-03-19, Kategorie: e5\n",
      "Tag: 2020-03-20, Kategorie: e5\n",
      "Tag: 2020-03-21, Kategorie: e5\n",
      "Tag: 2020-03-22, Kategorie: e5\n",
      "Tag: 2020-03-23, Kategorie: e5\n",
      "Tag: 2020-03-24, Kategorie: e5\n",
      "Tag: 2020-03-25, Kategorie: e5\n",
      "Tag: 2020-03-26, Kategorie: e5\n",
      "Tag: 2020-03-27, Kategorie: e5\n",
      "Tag: 2020-03-28, Kategorie: e5\n",
      "Tag: 2020-03-29, Kategorie: e5\n",
      "Tag: 2020-03-30, Kategorie: e5\n",
      "Tag: 2020-03-31, Kategorie: e5\n",
      "Tag: 2020-04-01, Kategorie: e5\n",
      "Tag: 2020-04-02, Kategorie: e5\n",
      "Tag: 2020-04-03, Kategorie: e5\n",
      "Tag: 2020-04-04, Kategorie: e5\n",
      "Tag: 2020-04-05, Kategorie: e5\n",
      "Tag: 2020-04-06, Kategorie: e5\n",
      "Tag: 2020-04-07, Kategorie: e5\n",
      "Tag: 2020-04-08, Kategorie: e5\n",
      "Tag: 2020-04-09, Kategorie: e5\n",
      "Tag: 2020-04-10, Kategorie: e5\n",
      "Tag: 2020-04-11, Kategorie: e5\n",
      "Tag: 2020-04-12, Kategorie: e5\n",
      "Tag: 2020-04-13, Kategorie: e5\n",
      "Tag: 2020-04-14, Kategorie: e5\n",
      "Tag: 2020-04-15, Kategorie: e5\n",
      "Tag: 2020-04-16, Kategorie: e5\n",
      "Tag: 2020-04-17, Kategorie: e5\n",
      "Tag: 2020-04-18, Kategorie: e5\n",
      "Tag: 2020-04-19, Kategorie: e5\n",
      "Tag: 2020-04-20, Kategorie: e5\n",
      "Tag: 2020-04-21, Kategorie: e5\n",
      "Tag: 2020-04-22, Kategorie: e5\n",
      "Tag: 2020-04-23, Kategorie: e5\n",
      "Tag: 2020-04-24, Kategorie: e5\n",
      "Tag: 2020-04-25, Kategorie: e5\n",
      "Tag: 2020-04-26, Kategorie: e5\n",
      "Tag: 2020-04-27, Kategorie: e5\n",
      "Tag: 2020-04-28, Kategorie: e5\n",
      "Tag: 2020-04-29, Kategorie: e5\n",
      "Tag: 2020-04-30, Kategorie: e5\n",
      "Tag: 2020-05-01, Kategorie: e5\n",
      "Tag: 2020-05-02, Kategorie: e5\n",
      "Tag: 2020-05-03, Kategorie: e5\n",
      "Tag: 2020-05-04, Kategorie: e5\n",
      "Tag: 2020-05-05, Kategorie: e5\n",
      "Tag: 2020-05-06, Kategorie: e5\n",
      "Tag: 2020-05-07, Kategorie: e5\n",
      "Tag: 2020-05-08, Kategorie: e5\n",
      "Tag: 2020-05-09, Kategorie: e5\n",
      "Tag: 2020-05-10, Kategorie: e5\n",
      "Tag: 2020-05-11, Kategorie: e5\n",
      "Tag: 2020-05-12, Kategorie: e5\n",
      "Tag: 2020-05-13, Kategorie: e5\n",
      "Tag: 2020-05-14, Kategorie: e5\n",
      "Tag: 2020-05-15, Kategorie: e5\n",
      "Tag: 2020-05-16, Kategorie: e5\n",
      "Tag: 2020-05-17, Kategorie: e5\n",
      "Tag: 2020-05-18, Kategorie: e5\n",
      "Tag: 2020-05-19, Kategorie: e5\n",
      "Tag: 2020-05-20, Kategorie: e5\n",
      "Tag: 2020-05-21, Kategorie: e5\n",
      "Tag: 2020-05-22, Kategorie: e5\n",
      "Tag: 2020-05-23, Kategorie: e5\n",
      "Tag: 2020-05-24, Kategorie: e5\n",
      "Tag: 2020-05-25, Kategorie: e5\n",
      "Tag: 2020-05-26, Kategorie: e5\n",
      "Tag: 2020-05-27, Kategorie: e5\n",
      "Tag: 2020-05-28, Kategorie: e5\n",
      "Tag: 2020-05-29, Kategorie: e5\n",
      "Tag: 2020-05-30, Kategorie: e5\n",
      "Tag: 2020-05-31, Kategorie: e5\n",
      "Tag: 2020-06-01, Kategorie: e5\n",
      "Tag: 2020-06-02, Kategorie: e5\n",
      "Tag: 2020-06-03, Kategorie: e5\n",
      "Tag: 2020-06-04, Kategorie: e5\n",
      "Tag: 2020-06-05, Kategorie: e5\n",
      "Tag: 2020-06-06, Kategorie: e5\n",
      "Tag: 2020-06-07, Kategorie: e5\n",
      "Tag: 2020-06-08, Kategorie: e5\n",
      "Tag: 2020-06-09, Kategorie: e5\n",
      "Tag: 2020-06-10, Kategorie: e5\n",
      "Tag: 2020-06-11, Kategorie: e5\n",
      "Tag: 2020-06-12, Kategorie: e5\n",
      "Tag: 2020-06-13, Kategorie: e5\n",
      "Tag: 2020-06-14, Kategorie: e5\n",
      "Tag: 2020-06-15, Kategorie: e5\n",
      "Tag: 2020-06-16, Kategorie: e5\n",
      "Tag: 2020-06-17, Kategorie: e5\n",
      "Tag: 2020-06-18, Kategorie: e5\n",
      "Tag: 2020-06-19, Kategorie: e5\n",
      "Tag: 2020-06-20, Kategorie: e5\n",
      "Tag: 2020-06-21, Kategorie: e5\n",
      "Tag: 2020-06-22, Kategorie: e5\n",
      "Tag: 2020-06-23, Kategorie: e5\n",
      "Tag: 2020-06-24, Kategorie: e5\n",
      "Tag: 2020-06-25, Kategorie: e5\n",
      "Tag: 2020-06-26, Kategorie: e5\n",
      "Tag: 2020-06-27, Kategorie: e5\n",
      "Tag: 2020-06-28, Kategorie: e5\n",
      "Tag: 2020-06-29, Kategorie: e5\n",
      "Tag: 2020-06-30, Kategorie: e5\n",
      "Tag: 2020-07-01, Kategorie: e5\n",
      "Tag: 2020-07-02, Kategorie: e5\n",
      "Tag: 2020-07-03, Kategorie: e5\n",
      "Tag: 2020-07-04, Kategorie: e5\n",
      "Tag: 2020-07-05, Kategorie: e5\n",
      "Tag: 2020-07-06, Kategorie: e5\n",
      "Tag: 2020-07-07, Kategorie: e5\n",
      "Tag: 2020-07-08, Kategorie: e5\n",
      "Tag: 2020-07-09, Kategorie: e5\n",
      "Tag: 2020-07-10, Kategorie: e5\n",
      "Tag: 2020-07-11, Kategorie: e5\n",
      "Tag: 2020-07-12, Kategorie: e5\n",
      "Tag: 2020-07-13, Kategorie: e5\n",
      "Tag: 2020-07-14, Kategorie: e5\n",
      "Tag: 2020-07-15, Kategorie: e5\n",
      "Tag: 2020-07-16, Kategorie: e5\n",
      "Tag: 2020-07-17, Kategorie: e5\n",
      "Tag: 2020-07-18, Kategorie: e5\n",
      "Tag: 2020-07-19, Kategorie: e5\n",
      "Tag: 2020-07-20, Kategorie: e5\n",
      "Tag: 2020-07-21, Kategorie: e5\n",
      "Tag: 2020-07-22, Kategorie: e5\n",
      "Tag: 2020-07-23, Kategorie: e5\n",
      "Tag: 2020-07-24, Kategorie: e5\n",
      "Tag: 2020-07-25, Kategorie: e5\n",
      "Tag: 2020-07-26, Kategorie: e5\n",
      "Tag: 2020-07-27, Kategorie: e5\n",
      "Tag: 2020-07-28, Kategorie: e5\n",
      "Tag: 2020-07-29, Kategorie: e5\n",
      "Tag: 2020-07-30, Kategorie: e5\n",
      "Tag: 2020-07-31, Kategorie: e5\n",
      "Tag: 2020-08-01, Kategorie: e5\n",
      "Tag: 2020-08-02, Kategorie: e5\n",
      "Tag: 2020-08-03, Kategorie: e5\n",
      "Tag: 2020-08-04, Kategorie: e5\n",
      "Tag: 2020-08-05, Kategorie: e5\n",
      "Tag: 2020-08-06, Kategorie: e5\n",
      "Tag: 2020-08-07, Kategorie: e5\n",
      "Tag: 2020-08-08, Kategorie: e5\n",
      "Tag: 2020-08-09, Kategorie: e5\n",
      "Tag: 2020-08-10, Kategorie: e5\n",
      "Tag: 2020-08-11, Kategorie: e5\n",
      "Tag: 2020-08-12, Kategorie: e5\n",
      "Tag: 2020-08-13, Kategorie: e5\n",
      "Tag: 2020-08-14, Kategorie: e5\n",
      "Tag: 2020-08-15, Kategorie: e5\n",
      "Tag: 2020-08-16, Kategorie: e5\n",
      "Tag: 2020-08-17, Kategorie: e5\n",
      "Tag: 2020-08-18, Kategorie: e5\n",
      "Tag: 2020-08-19, Kategorie: e5\n",
      "Tag: 2020-08-20, Kategorie: e5\n",
      "Tag: 2020-08-21, Kategorie: e5\n",
      "Tag: 2020-08-22, Kategorie: e5\n",
      "Tag: 2020-08-23, Kategorie: e5\n",
      "Tag: 2020-08-24, Kategorie: e5\n",
      "Tag: 2020-08-25, Kategorie: e5\n",
      "Tag: 2020-08-26, Kategorie: e5\n",
      "Tag: 2020-08-27, Kategorie: e5\n",
      "Tag: 2020-08-28, Kategorie: e5\n",
      "Tag: 2020-08-29, Kategorie: e5\n",
      "Tag: 2020-08-30, Kategorie: e5\n",
      "Tag: 2020-08-31, Kategorie: e5\n",
      "Tag: 2020-09-01, Kategorie: e5\n",
      "Tag: 2020-09-02, Kategorie: e5\n",
      "Tag: 2020-09-03, Kategorie: e5\n",
      "Tag: 2020-09-04, Kategorie: e5\n",
      "Tag: 2020-09-05, Kategorie: e5\n",
      "Tag: 2020-09-06, Kategorie: e5\n",
      "Tag: 2020-09-07, Kategorie: e5\n",
      "Tag: 2020-09-08, Kategorie: e5\n",
      "Tag: 2020-09-09, Kategorie: e5\n",
      "Tag: 2020-09-10, Kategorie: e5\n",
      "Tag: 2020-09-11, Kategorie: e5\n",
      "Tag: 2020-09-12, Kategorie: e5\n",
      "Tag: 2020-09-13, Kategorie: e5\n",
      "Tag: 2020-09-14, Kategorie: e5\n",
      "Tag: 2020-09-15, Kategorie: e5\n",
      "Tag: 2020-09-16, Kategorie: e5\n",
      "Tag: 2020-09-17, Kategorie: e5\n",
      "Tag: 2020-09-18, Kategorie: e5\n",
      "Tag: 2020-09-19, Kategorie: e5\n"
     ]
    },
    {
     "name": "stdout",
     "output_type": "stream",
     "text": [
      "Tag: 2020-09-20, Kategorie: e5\n",
      "Tag: 2020-09-21, Kategorie: e5\n",
      "Tag: 2020-09-22, Kategorie: e5\n",
      "Tag: 2020-09-23, Kategorie: e5\n",
      "Tag: 2020-09-24, Kategorie: e5\n",
      "Tag: 2020-09-25, Kategorie: e5\n",
      "Tag: 2020-09-26, Kategorie: e5\n",
      "Tag: 2020-09-27, Kategorie: e5\n",
      "Tag: 2020-09-28, Kategorie: e5\n",
      "Tag: 2020-09-29, Kategorie: e5\n",
      "Tag: 2020-09-30, Kategorie: e5\n",
      "Tag: 2020-10-01, Kategorie: e5\n",
      "Tag: 2020-10-02, Kategorie: e5\n",
      "Tag: 2020-10-03, Kategorie: e5\n",
      "Tag: 2020-10-04, Kategorie: e5\n",
      "Tag: 2020-10-05, Kategorie: e5\n",
      "Tag: 2020-10-06, Kategorie: e5\n",
      "Tag: 2020-10-07, Kategorie: e5\n",
      "Tag: 2020-10-08, Kategorie: e5\n",
      "Tag: 2020-10-09, Kategorie: e5\n",
      "Tag: 2020-10-10, Kategorie: e5\n",
      "Tag: 2020-10-11, Kategorie: e5\n",
      "Tag: 2020-10-12, Kategorie: e5\n",
      "Tag: 2020-10-13, Kategorie: e5\n",
      "Tag: 2020-10-14, Kategorie: e5\n",
      "Tag: 2020-10-15, Kategorie: e5\n",
      "Tag: 2020-10-16, Kategorie: e5\n",
      "Tag: 2020-10-17, Kategorie: e5\n",
      "Tag: 2020-10-18, Kategorie: e5\n",
      "Tag: 2020-10-19, Kategorie: e5\n",
      "Tag: 2020-10-20, Kategorie: e5\n",
      "Tag: 2020-10-21, Kategorie: e5\n",
      "Tag: 2020-10-22, Kategorie: e5\n",
      "Tag: 2020-10-23, Kategorie: e5\n",
      "Tag: 2020-10-24, Kategorie: e5\n",
      "Tag: 2020-10-25, Kategorie: e5\n",
      "Tag: 2020-10-26, Kategorie: e5\n",
      "Tag: 2020-10-27, Kategorie: e5\n",
      "Tag: 2020-10-28, Kategorie: e5\n",
      "Tag: 2020-10-29, Kategorie: e5\n",
      "Tag: 2020-10-30, Kategorie: e5\n",
      "Tag: 2020-10-31, Kategorie: e5\n",
      "Tag: 2020-11-01, Kategorie: e5\n",
      "Tag: 2020-11-02, Kategorie: e5\n",
      "Tag: 2020-11-03, Kategorie: e5\n",
      "Tag: 2020-11-04, Kategorie: e5\n",
      "Tag: 2020-11-05, Kategorie: e5\n",
      "Tag: 2020-11-06, Kategorie: e5\n",
      "Tag: 2020-11-07, Kategorie: e5\n"
     ]
    }
   ],
   "source": [
    "pricesHourTotal = getAvgPriceEveryHourTotal(pricesEClass, \"e5\")"
   ]
  },
  {
   "cell_type": "markdown",
   "metadata": {},
   "source": [
    "# Tagesverlauf von E5 in 2020"
   ]
  },
  {
   "cell_type": "code",
   "execution_count": 41,
   "metadata": {},
   "outputs": [
    {
     "ename": "NameError",
     "evalue": "name 'dayHoursDiesel' is not defined",
     "output_type": "error",
     "traceback": [
      "\u001b[0;31m---------------------------------------------------------------------------\u001b[0m",
      "\u001b[0;31mNameError\u001b[0m                                 Traceback (most recent call last)",
      "\u001b[0;32m<ipython-input-41-9cd26877256e>\u001b[0m in \u001b[0;36m<module>\u001b[0;34m\u001b[0m\n\u001b[1;32m      2\u001b[0m \u001b[0mSize\u001b[0m \u001b[0;34m=\u001b[0m \u001b[0mF\u001b[0m\u001b[0;34m.\u001b[0m\u001b[0mget_size_inches\u001b[0m\u001b[0;34m(\u001b[0m\u001b[0;34m)\u001b[0m\u001b[0;34m\u001b[0m\u001b[0;34m\u001b[0m\u001b[0m\n\u001b[1;32m      3\u001b[0m \u001b[0mF\u001b[0m\u001b[0;34m.\u001b[0m\u001b[0mset_size_inches\u001b[0m\u001b[0;34m(\u001b[0m\u001b[0mSize\u001b[0m\u001b[0;34m[\u001b[0m\u001b[0;36m0\u001b[0m\u001b[0;34m]\u001b[0m\u001b[0;34m*\u001b[0m\u001b[0;36m1.5\u001b[0m\u001b[0;34m,\u001b[0m \u001b[0mSize\u001b[0m\u001b[0;34m[\u001b[0m\u001b[0;36m1\u001b[0m\u001b[0;34m]\u001b[0m\u001b[0;34m*\u001b[0m\u001b[0;36m1.5\u001b[0m\u001b[0;34m,\u001b[0m \u001b[0mforward\u001b[0m\u001b[0;34m=\u001b[0m\u001b[0;32mTrue\u001b[0m\u001b[0;34m)\u001b[0m\u001b[0;34m\u001b[0m\u001b[0;34m\u001b[0m\u001b[0m\n\u001b[0;32m----> 4\u001b[0;31m \u001b[0mplt\u001b[0m\u001b[0;34m.\u001b[0m\u001b[0mplot\u001b[0m\u001b[0;34m(\u001b[0m\u001b[0mdayHoursDiesel\u001b[0m\u001b[0;34m,\u001b[0m \u001b[0mpricesHourTotal\u001b[0m\u001b[0;34m)\u001b[0m\u001b[0;34m\u001b[0m\u001b[0;34m\u001b[0m\u001b[0m\n\u001b[0m\u001b[1;32m      5\u001b[0m \u001b[0mplt\u001b[0m\u001b[0;34m.\u001b[0m\u001b[0mxlabel\u001b[0m\u001b[0;34m(\u001b[0m\u001b[0;34m'Uhrzeit'\u001b[0m\u001b[0;34m)\u001b[0m\u001b[0;34m\u001b[0m\u001b[0;34m\u001b[0m\u001b[0m\n\u001b[1;32m      6\u001b[0m \u001b[0mplt\u001b[0m\u001b[0;34m.\u001b[0m\u001b[0mylabel\u001b[0m\u001b[0;34m(\u001b[0m\u001b[0;34m'Preis pro Liter in Euro'\u001b[0m\u001b[0;34m)\u001b[0m\u001b[0;34m\u001b[0m\u001b[0;34m\u001b[0m\u001b[0m\n",
      "\u001b[0;31mNameError\u001b[0m: name 'dayHoursDiesel' is not defined"
     ]
    },
    {
     "data": {
      "text/plain": [
       "<Figure size 648x432 with 0 Axes>"
      ]
     },
     "metadata": {},
     "output_type": "display_data"
    }
   ],
   "source": [
    "F = plt.gcf()\n",
    "Size = F.get_size_inches()\n",
    "F.set_size_inches(Size[0]*1.5, Size[1]*1.5, forward=True)\n",
    "plt.plot(dayHoursDiesel, pricesHourTotal)\n",
    "plt.xlabel('Uhrzeit')\n",
    "plt.ylabel('Preis pro Liter in Euro')\n",
    "plt.title(\"Tagesverlauf von E5 im Jahr 2020\")\n",
    "plt.show()"
   ]
  },
  {
   "cell_type": "markdown",
   "metadata": {},
   "source": [
    "# Tagesverlauf von Diesel an einem bestimmten Tag \n",
    "## 28.08.2020"
   ]
  },
  {
   "cell_type": "code",
   "execution_count": null,
   "metadata": {},
   "outputs": [],
   "source": [
    "dayDictDiesel, dayPricesDiesel, dayHoursDiesel = getAvgPriceEveryHour(pricesDiesel, \"2020-08-28\", \"diesel\")"
   ]
  },
  {
   "cell_type": "code",
   "execution_count": null,
   "metadata": {},
   "outputs": [],
   "source": [
    "F = plt.gcf()\n",
    "Size = F.get_size_inches()\n",
    "F.set_size_inches(Size[0]*1.5, Size[1]*1.5, forward=True)\n",
    "plt.plot(dayHoursDiesel, dayPricesDiesel)\n",
    "plt.xlabel('Uhrzeit')\n",
    "plt.ylabel('Preis pro Liter in Euro')\n",
    "plt.title(\"Tagesverlauf von Diesel am 28.08.2020\")\n",
    "plt.show()"
   ]
  },
  {
   "cell_type": "markdown",
   "metadata": {},
   "source": [
    "## Pricing cities"
   ]
  },
  {
   "cell_type": "code",
   "execution_count": 66,
   "metadata": {},
   "outputs": [],
   "source": [
    "res = stationen.aggregate([\n",
    "    { \n",
    "        \"$match\": \n",
    "        {\n",
    "            \"$or\": [ { \"city\": \"München\" }, { \"city\": \"Freiburg\" }, { \"city\": \"Mannheim\" },{ \"city\": \"Frankfurt\"}, { \"city\": \"Hamburg\"}, { \"city\": \"Berlin\"},{ \"city\": \"Köln\"}]\n",
    "        }\n",
    "    }\n",
    "\n",
    "])\n",
    "cityStations = list(res)"
   ]
  },
  {
   "cell_type": "code",
   "execution_count": 57,
   "metadata": {
    "scrolled": true
   },
   "outputs": [],
   "source": [
    "def getCities(l):\n",
    "    cities = []\n",
    "    for element in l:\n",
    "        cities.append(element[\"city\"])\n",
    "    return list(set(cities))\n",
    "\n",
    "def splitIDforCity(l, cities):\n",
    "    cityIDs = []\n",
    "    for city in cities:\n",
    "        for element in l:\n",
    "            if element[\"city\"] == city:\n",
    "                cityIDs.append({\"Stadt\": city, \"ID\": element[\"uuid\"]})\n",
    "    return cityIDs\n",
    "\n",
    "def getIDsByCity(ids, city):\n",
    "    cityIDs = []\n",
    "    for id in ids:\n",
    "        if id['Stadt'] == city:\n",
    "            cityIDs.append({\"station_uuid\": id['ID']})\n",
    "    return cityIDs\n",
    "\n",
    "def getCheapestID(ids):\n",
    "    a = ids[0]['e5']\n",
    "    c = 0 \n",
    "    idNumber = 0\n",
    "    for id in ids:\n",
    "        c = c + 1\n",
    "        if a > id['e5']:\n",
    "            a = id['e5']\n",
    "            idNumber = c\n",
    "    return ids[idNumber-1]\n",
    "\n",
    "def getCheapestStationName(ids):\n",
    "    station = getCheapestID(ids)\n",
    "    \n",
    "    res = stationen.aggregate([\n",
    "    { \n",
    "        \"$match\": \n",
    "        {\n",
    "             \"uuid\": station['_id'] \n",
    "        }\n",
    "    }\n",
    "\n",
    "    ])\n",
    "    station = list(res)\n",
    "    print('Adresse: ',station[0]['name'],' Name: ',station[0]['brand'] )"
   ]
  },
  {
   "cell_type": "code",
   "execution_count": 14,
   "metadata": {
    "scrolled": false
   },
   "outputs": [],
   "source": [
    "ids = splitIDforCity(cityStations, getCities(cityStations))"
   ]
  },
  {
   "cell_type": "code",
   "execution_count": 48,
   "metadata": {},
   "outputs": [],
   "source": [
    "munichIds = getIDsByCity(ids, \"München\")\n",
    "ffIds = getIDsByCity(ids, \"Frankfurt\")\n",
    "hamburgIds = getIDsByCity(ids, \"Hamburg\")\n",
    "mannheimIds = getIDsByCity(ids, \"Mannheim\")"
   ]
  },
  {
   "cell_type": "code",
   "execution_count": 60,
   "metadata": {},
   "outputs": [],
   "source": [
    "#MongoDB Query - Avg. E5 prices for Munich - takes forever\n",
    "res = preise.aggregate([\n",
    "    \n",
    "      \n",
    "        {\n",
    "            \"$match\":   {\"$or\":munichIds }\n",
    "        },\n",
    "        {\n",
    "            \"$group\" : {\"_id\": \"$date\" , \"e5\": {\"$avg\": \"$e5\"}}\n",
    "        }\n",
    "        \n",
    "    \n",
    "])\n",
    "e5Munich = list(res)"
   ]
  },
  {
   "cell_type": "code",
   "execution_count": 61,
   "metadata": {},
   "outputs": [],
   "source": [
    "#MongoDB Query - Avg. E5 prices for Frankfurt - takes forever too\n",
    "res = preise.aggregate([\n",
    "    \n",
    "      \n",
    "        {\n",
    "            \"$match\":   {\"$or\":ffIds }\n",
    "        },\n",
    "        {\n",
    "            \"$group\" : {\"_id\": \"$date\" , \"e5\": {\"$avg\": \"$e5\"}}\n",
    "        }\n",
    "        \n",
    "    \n",
    "])\n",
    "e5Frankfurt = list(res)"
   ]
  },
  {
   "cell_type": "code",
   "execution_count": 62,
   "metadata": {},
   "outputs": [],
   "source": [
    "#MongoDB Query - Avg. E5 prices for Hamburg - takes forever too\n",
    "res = preise.aggregate([\n",
    "    \n",
    "      \n",
    "        {\n",
    "            \"$match\":   {\"$or\":hamburgIds }\n",
    "        },\n",
    "        {\n",
    "            \"$group\" : {\"_id\": \"$date\" , \"e5\": {\"$avg\": \"$e5\"}}\n",
    "        }\n",
    "        \n",
    "    \n",
    "])\n",
    "e5Hamburg = list(res)"
   ]
  },
  {
   "cell_type": "code",
   "execution_count": null,
   "metadata": {},
   "outputs": [],
   "source": [
    "monthDictE5Munich, pricesE5Munich, monthsE5Munich = getPriceOfMonths(e5Munich, \"e5\")"
   ]
  },
  {
   "cell_type": "code",
   "execution_count": null,
   "metadata": {},
   "outputs": [],
   "source": [
    "monthDictE5ff, pricesE5ff, monthsE5ff = getPriceOfMonths(e5Frankfurt, \"e5\")"
   ]
  },
  {
   "cell_type": "code",
   "execution_count": null,
   "metadata": {},
   "outputs": [],
   "source": [
    "monthDictE5hh, pricesE5hh, monthsE5hh = getPriceOfMonths(e5Hamburg, \"e5\")"
   ]
  },
  {
   "cell_type": "markdown",
   "metadata": {},
   "source": [
    "# Preisverlauf pro Monat\n",
    "### Vergleich München, Frankfurt und Durchschnitt Deutschland 2020"
   ]
  },
  {
   "cell_type": "code",
   "execution_count": null,
   "metadata": {},
   "outputs": [],
   "source": [
    "F = plt.gcf()\n",
    "Size = F.get_size_inches()\n",
    "F.set_size_inches(Size[0]*2.5, Size[1]*2, forward=True)\n",
    "plt.plot(monthsE5Munich, pricesE5Munich)\n",
    "plt.plot(monthsE5ff, pricesE5ff)\n",
    "plt.plot(monthsE5hh, pricesE5hh)\n",
    "plt.plot(monthsE5, pricesE5)\n",
    "plt.legend(['München','Frankfurt', 'Hamburg', 'Durchschnitt Deutschland'])\n",
    "plt.xlabel('Monat')\n",
    "plt.ylabel('Preis pro Liter in Euro')\n",
    "plt.title(\"Vergleich München, Frankfurt und Durchschnitt Deutschland 2020\")\n",
    "plt.show()"
   ]
  },
  {
   "cell_type": "markdown",
   "metadata": {},
   "source": [
    "#  Billigiste Tankstelle in Mannheim "
   ]
  },
  {
   "cell_type": "code",
   "execution_count": 64,
   "metadata": {},
   "outputs": [],
   "source": [
    "#MongoDB Query - Avg. E5 prices for each station in Mannheim\n",
    "res = preise.aggregate([\n",
    "    \n",
    "      \n",
    "        {\n",
    "            \"$match\":   {\"$or\":mannheimIds }\n",
    "        },\n",
    "        {\n",
    "            \"$group\" : {\"_id\": \"$station_uuid\" , \"e5\": {\"$avg\": \"$e5\"}}\n",
    "        }\n",
    "        \n",
    "    \n",
    "])\n",
    "e5MannheimStations = list(res)"
   ]
  },
  {
   "cell_type": "code",
   "execution_count": 65,
   "metadata": {},
   "outputs": [
    {
     "name": "stdout",
     "output_type": "stream",
     "text": [
      "Adresse:  Mannheim, Waldstr. 172  Name:  HEM\n"
     ]
    }
   ],
   "source": [
    "getCheapestStationName(e5MannheimStations)"
   ]
  },
  {
   "cell_type": "code",
   "execution_count": null,
   "metadata": {},
   "outputs": [],
   "source": []
  }
 ],
 "metadata": {
  "kernelspec": {
   "display_name": "Python 3",
   "language": "python",
   "name": "python3"
  },
  "language_info": {
   "codemirror_mode": {
    "name": "ipython",
    "version": 3
   },
   "file_extension": ".py",
   "mimetype": "text/x-python",
   "name": "python",
   "nbconvert_exporter": "python",
   "pygments_lexer": "ipython3",
   "version": "3.8.3"
  }
 },
 "nbformat": 4,
 "nbformat_minor": 4
}
