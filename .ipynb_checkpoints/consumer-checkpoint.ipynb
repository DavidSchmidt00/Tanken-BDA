{
 "cells": [
  {
   "cell_type": "markdown",
   "metadata": {},
   "source": [
    "## Consumer Script for Loading Data from Kafka in MongoDB"
   ]
  },
  {
   "cell_type": "code",
   "execution_count": 3,
   "metadata": {
    "pycharm": {
     "name": "#%%\n"
    }
   },
   "outputs": [],
   "source": [
    "from kafka import KafkaAdminClient, KafkaConsumer\n",
    "from kafka.admin import NewTopic\n",
    "import pymongo\n",
    "import threading\n",
    "import json"
   ]
  },
  {
   "cell_type": "code",
   "execution_count": 4,
   "metadata": {
    "pycharm": {
     "name": "#%%\n"
    }
   },
   "outputs": [],
   "source": [
    "admin = KafkaAdminClient(bootstrap_servers=\"localhost:9092\")       # connecting to Kafka\n",
    "\n",
    "if \"preise\"not in admin.list_topics() and \"stationen\" not in admin.list_topics():       # checking if topics already exist\n",
    "    newTopics = list()\n",
    "    newTopics.append(NewTopic(name=\"preise\", num_partitions=1, replication_factor=1))\n",
    "    newTopics.append(NewTopic(name=\"stationen\", num_partitions=1, replication_factor=1))\n",
    "    admin.create_topics(newTopics)        # Adding preise and stationen to topics if they are not already existing\n",
    "\n",
    "# creating preise consumer\n",
    "preisConsumer = KafkaConsumer(bootstrap_servers=[\"localhost:9092\"])\n",
    "preisConsumer.subscribe(\"preise\")\n",
    "\n",
    "#creating stationen consumer\n",
    "tankeConsumer = KafkaConsumer(bootstrap_servers=[\"localhost:9092\"])\n",
    "tankeConsumer.subscribe(\"stationen\")\n",
    "\n",
    "#connecting to MongoDB Collections\n",
    "client = pymongo.MongoClient('localhost', 27017)\n",
    "db = client.tanken\n",
    "preise = db.preise\n",
    "stationen = db.stationen"
   ]
  },
  {
   "cell_type": "code",
   "execution_count": 5,
   "metadata": {
    "pycharm": {
     "name": "#%%\n"
    }
   },
   "outputs": [],
   "source": [
    "\n",
    "# function that gets executed for every consumer with parameters:\n",
    "# consumer: the consumer to listen on\n",
    "# collection: the reference to the MongoDB Collection in which the data should be inserted\n",
    "\n",
    "def listenToConsumer(consumer, collection):\n",
    "    print(\"started \",collection.name,\" listener.\")\n",
    "    for msg in consumer:                                 # loop gets executed for every new message 'msg' in the Queue\n",
    "        item = json.loads(msg.value.decode(\"utf-8\"))     # Decode message and convert to JSON-format\n",
    "        print(collection.name, \" msg: \",str(item))\n",
    "        if collection==preise:                           # Inserting the message into the right collection\n",
    "            collection.insert_one(item)\n",
    "        elif collection==stationen:\n",
    "            collection.update_one({\"uuid\":item[\"uuid\"]}, {\"$set\": item}, upsert=True)\n",
    "    print(\"finished consumer\")\n"
   ]
  },
  {
   "cell_type": "code",
   "execution_count": 6,
   "metadata": {
    "pycharm": {
     "name": "#%%\n"
    }
   },
   "outputs": [
    {
     "name": "stdout",
     "output_type": "stream",
     "text": [
      "started  preise  listener.\n",
      "started  stationen  listener.\n"
     ]
    }
   ],
   "source": [
    "#starting Threads for each consumer so that they are both listening at the same time\n",
    "threading.Thread(target=listenToConsumer, args=(preisConsumer, preise)).start()\n",
    "threading.Thread(target=listenToConsumer, args=(tankeConsumer, stationen)).start()"
   ]
  }
 ],
 "metadata": {
  "kernelspec": {
   "display_name": "Python 3",
   "language": "python",
   "name": "python3"
  },
  "language_info": {
   "codemirror_mode": {
    "name": "ipython",
    "version": 3
   },
   "file_extension": ".py",
   "mimetype": "text/x-python",
   "name": "python",
   "nbconvert_exporter": "python",
   "pygments_lexer": "ipython3",
   "version": "3.8.3"
  }
 },
 "nbformat": 4,
 "nbformat_minor": 4
}
