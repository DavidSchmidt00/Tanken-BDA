{
 "cells": [
  {
   "cell_type": "markdown",
   "metadata": {},
   "source": [
    "## Producer Script for Live-Data from API-Call"
   ]
  },
  {
   "cell_type": "markdown",
   "source": [
    "#### Imports"
   ],
   "metadata": {
    "collapsed": false,
    "pycharm": {
     "name": "#%% md\n"
    }
   }
  },
  {
   "cell_type": "code",
   "execution_count": 47,
   "outputs": [],
   "source": [
    "import json\n",
    "from kafka import KafkaProducer, KafkaAdminClient\n",
    "from kafka.admin import NewTopic\n",
    "import requests\n",
    "import datetime"
   ],
   "metadata": {
    "collapsed": false,
    "pycharm": {
     "name": "#%%\n"
    }
   }
  },
  {
   "cell_type": "code",
   "execution_count": 48,
   "outputs": [],
   "source": [
    "admin = KafkaAdminClient(bootstrap_servers=\"localhost:9092\")\n",
    "producer = KafkaProducer(bootstrap_servers=\"localhost:9092\")"
   ],
   "metadata": {
    "collapsed": false,
    "pycharm": {
     "name": "#%%\n"
    }
   }
  },
  {
   "cell_type": "markdown",
   "source": [
    "### Try to create topics"
   ],
   "metadata": {
    "collapsed": false,
    "pycharm": {
     "name": "#%% md\n"
    }
   }
  },
  {
   "cell_type": "code",
   "execution_count": 49,
   "outputs": [],
   "source": [
    "if \"preise\" not in admin.list_topics() and \"stationen\" not in admin.list_topics():\n",
    "    new_topics= list()\n",
    "    new_topics.append(NewTopic(name=\"preise\", num_partitions=1, replication_factor=1))\n",
    "    new_topics.append(NewTopic(name=\"stationen\", num_partitions=1, replication_factor=1))\n",
    "    admin.create_topics(new_topics)"
   ],
   "metadata": {
    "collapsed": false,
    "pycharm": {
     "name": "#%%\n"
    }
   }
  },
  {
   "cell_type": "code",
   "execution_count": 50,
   "outputs": [],
   "source": [
    "def add_price(date, uuid, diesel, e5,e10):\n",
    "    j = json.dumps({\"date\": date, \"station_uuid\":uuid,\"diesel\":diesel,\"e10\":e10,\"e5\":e5})\n",
    "    print(j)\n",
    "    producer.send(\"preise\",str(j).encode())\n",
    "\n",
    "def add_station( uuid, name, brand, street, house_number, post_code,city, lat, lng):\n",
    "    j = json.dumps({\"uuid\":uuid,\"name\":name,\"brand\":brand,\"street\":street, \"house_number\":house_number,\"post_code\":post_code,\"city\":city,\"latitude\":lat,\"longitude\":lng,\"first_active\":\"\",\"openingtimes_json\":None})\n",
    "    print(j)\n",
    "    producer.send(\"stationen\",str(j).encode())"
   ],
   "metadata": {
    "collapsed": false,
    "pycharm": {
     "name": "#%%\n"
    }
   }
  },
  {
   "cell_type": "markdown",
   "source": [
    "#### API Call"
   ],
   "metadata": {
    "collapsed": false,
    "pycharm": {
     "name": "#%% md\n"
    }
   }
  },
  {
   "cell_type": "code",
   "execution_count": 52,
   "outputs": [
    {
     "name": "stdout",
     "output_type": "stream",
     "text": [
      "{\"date\": \"2020-11-09 15:35:12+01\", \"station_uuid\": \"8c36f834-0060-4623-8213-6f6eb98cd69a\", \"diesel\": 1.039, \"e10\": 1.159, \"e5\": 1.209}\n",
      "{\"uuid\": \"8c36f834-0060-4623-8213-6f6eb98cd69a\", \"name\": \"Aral Tankstelle\", \"brand\": \"ARAL\", \"street\": \"Hafenstra\\u00dfe\", \"house_number\": \"19-21\", \"post_code\": 68159, \"city\": \"Mannheim\", \"latitude\": 49.4940567, \"longitude\": 8.457063, \"first_active\": \"\", \"openingtimes_json\": null}\n",
      "{\"date\": \"2020-11-09 15:35:12+01\", \"station_uuid\": \"70543ec9-45a3-49e2-a86c-2d2fa7ece892\", \"diesel\": 1.009, \"e10\": 1.119, \"e5\": 1.169}\n",
      "{\"uuid\": \"70543ec9-45a3-49e2-a86c-2d2fa7ece892\", \"name\": \"Sb Mannheim Waldhofstrasse. 62\", \"brand\": \"SB\", \"street\": \"Waldhofstrasse.\", \"house_number\": \"62\", \"post_code\": 68169, \"city\": \"Mannheim\", \"latitude\": 49.502212, \"longitude\": 8.471017, \"first_active\": \"\", \"openingtimes_json\": null}\n",
      "{\"date\": \"2020-11-09 15:35:12+01\", \"station_uuid\": \"a674473d-bdc4-4e05-9677-e4dd74ed0184\", \"diesel\": 1.019, \"e10\": 1.149, \"e5\": 1.199}\n",
      "{\"uuid\": \"a674473d-bdc4-4e05-9677-e4dd74ed0184\", \"name\": \"Aral Tankstelle\", \"brand\": \"ARAL\", \"street\": \"Unterm\\u00fchlaustra\\u00dfe\", \"house_number\": \"50\", \"post_code\": 68169, \"city\": \"Mannheim\", \"latitude\": 49.50618, \"longitude\": 8.463967, \"first_active\": \"\", \"openingtimes_json\": null}\n",
      "{\"date\": \"2020-11-09 15:35:12+01\", \"station_uuid\": \"cdff494c-2f11-4001-9241-e7cf61c3ebb8\", \"diesel\": 0.979, \"e10\": 1.119, \"e5\": 1.169}\n",
      "{\"uuid\": \"cdff494c-2f11-4001-9241-e7cf61c3ebb8\", \"name\": \"LUDWIGSHAFEN - ZOLLHOFSTRASSE 8\", \"brand\": \"Freie Tankstelle\", \"street\": \"Zollhofstrasse\", \"house_number\": \"8\", \"post_code\": 67061, \"city\": \"Ludwigshafen\", \"latitude\": 49.484046, \"longitude\": 8.449173, \"first_active\": \"\", \"openingtimes_json\": null}\n",
      "{\"date\": \"2020-11-09 15:35:12+01\", \"station_uuid\": \"51d4b652-a095-1aa0-e100-80009459e03a\", \"diesel\": 1.009, \"e10\": 1.119, \"e5\": 1.169}\n",
      "{\"uuid\": \"51d4b652-a095-1aa0-e100-80009459e03a\", \"name\": \"JET MANNHEIM UNTERMUEHLAUSTR. 83\", \"brand\": \"JET\", \"street\": \"UNTERMUEHLAUSTR. 83\", \"house_number\": \"\", \"post_code\": 68169, \"city\": \"MANNHEIM\", \"latitude\": 49.508962, \"longitude\": 8.467691, \"first_active\": \"\", \"openingtimes_json\": null}\n",
      "{\"date\": \"2020-11-09 15:35:12+01\", \"station_uuid\": \"64e407d4-bf53-4eaf-9560-db30345877dc\", \"diesel\": 1.019, \"e10\": 1.129, \"e5\": 1.179}\n",
      "{\"uuid\": \"64e407d4-bf53-4eaf-9560-db30345877dc\", \"name\": \"MANNHEIM - UNTERMUEHLAUSTR. 105-107\", \"brand\": \"Agip\", \"street\": \"Untermuehlaustr.\", \"house_number\": \"105-107\", \"post_code\": 68169, \"city\": \"Mannheim\", \"latitude\": 49.510755, \"longitude\": 8.469932, \"first_active\": \"\", \"openingtimes_json\": null}\n",
      "{\"date\": \"2020-11-09 15:35:12+01\", \"station_uuid\": \"1db8c369-2742-4f18-a4cb-fcb536294636\", \"diesel\": 1.019, \"e10\": 1.149, \"e5\": 1.199}\n",
      "{\"uuid\": \"1db8c369-2742-4f18-a4cb-fcb536294636\", \"name\": \"Aral Tankstelle\", \"brand\": \"ARAL\", \"street\": \"Friedrich-Ebert-Stra\\u00dfe\", \"house_number\": \"12\", \"post_code\": 68167, \"city\": \"Mannheim\", \"latitude\": 49.496582, \"longitude\": 8.487706, \"first_active\": \"\", \"openingtimes_json\": null}\n",
      "{\"date\": \"2020-11-09 15:35:12+01\", \"station_uuid\": \"417722f4-761a-4e8e-a750-104aef3181df\", \"diesel\": 1.019, \"e10\": 1.129, \"e5\": 1.179}\n",
      "{\"uuid\": \"417722f4-761a-4e8e-a750-104aef3181df\", \"name\": \"TOTAL MANNHEIM\", \"brand\": \"TOTAL\", \"street\": \"FR.-EBERT-STR. 14-16\", \"house_number\": \"\", \"post_code\": 68167, \"city\": \"MANNHEIM\", \"latitude\": 49.497207, \"longitude\": 8.488092, \"first_active\": \"\", \"openingtimes_json\": null}\n",
      "{\"date\": \"2020-11-09 15:35:12+01\", \"station_uuid\": \"80cc039e-493e-4b2b-a9e0-1044b6c63329\", \"diesel\": 1.029, \"e10\": 1.139, \"e5\": 1.189}\n",
      "{\"uuid\": \"80cc039e-493e-4b2b-a9e0-1044b6c63329\", \"name\": \"Shell Mannheim Seckenheimer Str. 17\", \"brand\": \"Shell\", \"street\": \"Seckenheimer Str.\", \"house_number\": \"17\", \"post_code\": 68165, \"city\": \"Mannheim\", \"latitude\": 49.480509, \"longitude\": 8.479488, \"first_active\": \"\", \"openingtimes_json\": null}\n",
      "{\"date\": \"2020-11-09 15:35:12+01\", \"station_uuid\": \"733da493-02a3-4356-928e-2ec8653b89c6\", \"diesel\": 1.019, \"e10\": 1.149, \"e5\": 1.199}\n",
      "{\"uuid\": \"733da493-02a3-4356-928e-2ec8653b89c6\", \"name\": \"Aral Tankstelle\", \"brand\": \"ARAL\", \"street\": \"Heinigstra\\u00dfe\", \"house_number\": \"69\", \"post_code\": 67059, \"city\": \"Ludwigshafen\", \"latitude\": 49.4815025, \"longitude\": 8.439371, \"first_active\": \"\", \"openingtimes_json\": null}\n",
      "{\"date\": \"2020-11-09 15:35:12+01\", \"station_uuid\": \"353b8b7a-2a99-4201-bf12-4d526666db87\", \"diesel\": 1.019, \"e10\": 1.129, \"e5\": 1.179}\n",
      "{\"uuid\": \"353b8b7a-2a99-4201-bf12-4d526666db87\", \"name\": \"Harald Henn\", \"brand\": \"Esso\", \"street\": \"K\\u00e4fertaler Str.\", \"house_number\": \"227-229\", \"post_code\": 68167, \"city\": \"Mannheim\", \"latitude\": 49.4995, \"longitude\": 8.4959, \"first_active\": \"\", \"openingtimes_json\": null}\n",
      "{\"date\": \"2020-11-09 15:35:12+01\", \"station_uuid\": \"1bedc780-c0ca-407b-a0dd-c6493b48c5e5\", \"diesel\": 1.019, \"e10\": 1.129, \"e5\": 1.179}\n",
      "{\"uuid\": \"1bedc780-c0ca-407b-a0dd-c6493b48c5e5\", \"name\": \"TOTAL MANNHEIM\", \"brand\": \"TOTAL\", \"street\": \"HAFENBAHNSTR 74\", \"house_number\": \"\", \"post_code\": 68305, \"city\": \"MANNHEIM\", \"latitude\": 49.513342, \"longitude\": 8.484253, \"first_active\": \"\", \"openingtimes_json\": null}\n",
      "{\"date\": \"2020-11-09 15:35:12+01\", \"station_uuid\": \"8af1a656-418f-4b9a-b2a5-e0d6aab41d08\", \"diesel\": 1.029, \"e10\": 1.129, \"e5\": 1.179}\n",
      "{\"uuid\": \"8af1a656-418f-4b9a-b2a5-e0d6aab41d08\", \"name\": \"Shell Mannheim Viehhofstr. 21- 23\", \"brand\": \"Shell\", \"street\": \"Viehhofstr.\", \"house_number\": \"21- 23\", \"post_code\": 68165, \"city\": \"Mannheim\", \"latitude\": 49.474192, \"longitude\": 8.484566, \"first_active\": \"\", \"openingtimes_json\": null}\n",
      "{\"date\": \"2020-11-09 15:35:12+01\", \"station_uuid\": \"17ac8e20-e554-4819-873d-0e6776201823\", \"diesel\": 1.039, \"e10\": 1.149, \"e5\": 1.199}\n",
      "{\"uuid\": \"17ac8e20-e554-4819-873d-0e6776201823\", \"name\": \"Aral Tankstelle\", \"brand\": \"ARAL\", \"street\": \"M\\u00f6hlstra\\u00dfe\", \"house_number\": \"1\", \"post_code\": 68165, \"city\": \"Mannheim\", \"latitude\": 49.47571, \"longitude\": 8.487958, \"first_active\": \"\", \"openingtimes_json\": null}\n",
      "{\"date\": \"2020-11-09 15:35:12+01\", \"station_uuid\": \"16c7cc25-cfdf-4e18-81b3-90d7f17f35fe\", \"diesel\": 1.019, \"e10\": 1.119, \"e5\": 1.169}\n",
      "{\"uuid\": \"16c7cc25-cfdf-4e18-81b3-90d7f17f35fe\", \"name\": \"Mannheim M\\u00f6hlstra\\u00dfe\", \"brand\": \"Mr. Wash Autoservice AG\", \"street\": \"M\\u00f6hlstra\\u00dfe\", \"house_number\": \"7-17\", \"post_code\": 68165, \"city\": \"Mannheim\", \"latitude\": 49.47509, \"longitude\": 8.4874, \"first_active\": \"\", \"openingtimes_json\": null}\n",
      "{\"date\": \"2020-11-09 15:35:12+01\", \"station_uuid\": \"b06581d7-11d6-4cdf-b145-3aa3b1e6e698\", \"diesel\": 1.009, \"e10\": 1.119, \"e5\": 1.169}\n",
      "{\"uuid\": \"b06581d7-11d6-4cdf-b145-3aa3b1e6e698\", \"name\": \"ELO Mannheim\", \"brand\": \"ELO\", \"street\": \"Zielstra\\u00dfe\", \"house_number\": \"36-38\", \"post_code\": 68169, \"city\": \"Mannheim\", \"latitude\": 49.504112, \"longitude\": 8.501346, \"first_active\": \"\", \"openingtimes_json\": null}\n",
      "{\"date\": \"2020-11-09 15:35:12+01\", \"station_uuid\": \"5efe5bd0-bcfd-4fdf-9456-3f0aeb0fa9e4\", \"diesel\": 0.989, \"e10\": 1.119, \"e5\": 1.169}\n",
      "{\"uuid\": \"5efe5bd0-bcfd-4fdf-9456-3f0aeb0fa9e4\", \"name\": \"Shell Ludwigshafen Am Rhein Valentin-Bauer-Str. 49\", \"brand\": \"Shell\", \"street\": \"Valentin-Bauer-Str.\", \"house_number\": \"49\", \"post_code\": 67059, \"city\": \"Ludwigshafen Am Rhein\", \"latitude\": 49.479415, \"longitude\": 8.426679, \"first_active\": \"\", \"openingtimes_json\": null}\n",
      "{\"date\": \"2020-11-09 15:35:12+01\", \"station_uuid\": \"db62384b-f8db-47d9-baca-9dbdf561d661\", \"diesel\": 1.029, \"e10\": 1.129, \"e5\": 1.179}\n",
      "{\"uuid\": \"db62384b-f8db-47d9-baca-9dbdf561d661\", \"name\": \"Aral Tankstelle\", \"brand\": \"ARAL\", \"street\": \"Neustadter Stra\\u00dfe\", \"house_number\": \"47\", \"post_code\": 68309, \"city\": \"Mannheim\", \"latitude\": 49.4996338, \"longitude\": 8.506895, \"first_active\": \"\", \"openingtimes_json\": null}\n",
      "{\"date\": \"2020-11-09 15:35:12+01\", \"station_uuid\": \"09839b72-1976-4e20-b617-acccecf75ea0\", \"diesel\": 0.999, \"e10\": 1.129, \"e5\": 1.179}\n",
      "{\"uuid\": \"09839b72-1976-4e20-b617-acccecf75ea0\", \"name\": \"Shell Ludwigshafen Am Rhein Sternstr. 101\", \"brand\": \"Shell\", \"street\": \"Sternstr.\", \"house_number\": \"101\", \"post_code\": 67063, \"city\": \"Ludwigshafen Am Rhein\", \"latitude\": 49.494919, \"longitude\": 8.41414, \"first_active\": \"\", \"openingtimes_json\": null}\n",
      "{\"date\": \"2020-11-09 15:35:12+01\", \"station_uuid\": \"f68ad3b1-44c2-47b0-ba9b-eb23163b7ee3\", \"diesel\": 1.029, \"e10\": 1.129, \"e5\": 1.179}\n",
      "{\"uuid\": \"f68ad3b1-44c2-47b0-ba9b-eb23163b7ee3\", \"name\": \"Shell Mannheim Neckarauer Str. 245\", \"brand\": \"Shell\", \"street\": \"Neckarauer Str.\", \"house_number\": \"245\", \"post_code\": 68199, \"city\": \"Mannheim\", \"latitude\": 49.46809, \"longitude\": 8.484041, \"first_active\": \"\", \"openingtimes_json\": null}\n",
      "{\"date\": \"2020-11-09 15:35:12+01\", \"station_uuid\": \"26731d13-0aec-4f1a-aa4b-c0471aa61e1b\", \"diesel\": 0.959, \"e10\": 1.099, \"e5\": 1.149}\n",
      "{\"uuid\": \"26731d13-0aec-4f1a-aa4b-c0471aa61e1b\", \"name\": \"Winkler-Ludwigshafen\", \"brand\": \"Winkler 24h\", \"street\": \"Frankenthaler Stra\\u00dfe\", \"house_number\": \"222\", \"post_code\": 67059, \"city\": \"Ludwigshafen\", \"latitude\": 49.485292, \"longitude\": 8.414747, \"first_active\": \"\", \"openingtimes_json\": null}\n",
      "{\"date\": \"2020-11-09 15:35:12+01\", \"station_uuid\": \"fb706efa-ebbc-406e-bef7-6c0c9ab205bd\", \"diesel\": 1.029, \"e10\": 1.139, \"e5\": 1.189}\n",
      "{\"uuid\": \"fb706efa-ebbc-406e-bef7-6c0c9ab205bd\", \"name\": \"MANNHEIM - GOTTL.-DAIMLER-STR. 44\", \"brand\": \"Agip\", \"street\": \"Gottl.-Daimler-Str.\", \"house_number\": \"44\", \"post_code\": 68165, \"city\": \"Mannheim\", \"latitude\": 49.473733778432, \"longitude\": 8.498565160571, \"first_active\": \"\", \"openingtimes_json\": null}\n",
      "{\"date\": \"2020-11-09 15:35:12+01\", \"station_uuid\": \"d7907605-9463-4dca-b649-2b55e678aa69\", \"diesel\": 0.989, \"e10\": 1.119, \"e5\": 1.169}\n",
      "{\"uuid\": \"d7907605-9463-4dca-b649-2b55e678aa69\", \"name\": \"OIL! Tankstelle Ludwigshafen\", \"brand\": \"OIL!\", \"street\": \"Brunckstra\\u00dfe 101\", \"house_number\": \"\", \"post_code\": 67063, \"city\": \"Ludwigshafen\", \"latitude\": 49.5031, \"longitude\": 8.41248, \"first_active\": \"\", \"openingtimes_json\": null}\n",
      "{\"date\": \"2020-11-09 15:35:12+01\", \"station_uuid\": \"3351c003-c3ee-4e84-922a-d7901fc7b2a6\", \"diesel\": 1.009, \"e10\": 1.149, \"e5\": 1.199}\n",
      "{\"uuid\": \"3351c003-c3ee-4e84-922a-d7901fc7b2a6\", \"name\": \"Aral Tankstelle\", \"brand\": \"ARAL\", \"street\": \"Brunckstra\\u00dfe\", \"house_number\": \"100\", \"post_code\": 67063, \"city\": \"Ludwigshafen\", \"latitude\": 49.5038071, \"longitude\": 8.4126, \"first_active\": \"\", \"openingtimes_json\": null}\n",
      "{\"date\": \"2020-11-09 15:35:12+01\", \"station_uuid\": \"9cc2babb-b643-4777-8122-407d96b6c753\", \"diesel\": 1.019, \"e10\": 1.129, \"e5\": 1.179}\n",
      "{\"uuid\": \"9cc2babb-b643-4777-8122-407d96b6c753\", \"name\": \"Esso Tankstelle\", \"brand\": \"ESSO\", \"street\": \"OBERE RIEDSTR. 81-83\", \"house_number\": \"\", \"post_code\": 68309, \"city\": \"MANNHEIM\", \"latitude\": 49.51409035, \"longitude\": 8.507157706, \"first_active\": \"\", \"openingtimes_json\": null}\n",
      "{\"date\": \"2020-11-09 15:35:12+01\", \"station_uuid\": \"7aafc62a-a9e0-4cd2-83ad-345dfec172a0\", \"diesel\": 0.979, \"e10\": 1.109, \"e5\": 1.159}\n",
      "{\"uuid\": \"7aafc62a-a9e0-4cd2-83ad-345dfec172a0\", \"name\": \"Tankcenter LUDWIGSHAFEN\", \"brand\": \"Tankcenter\", \"street\": \"MUNDENHEIMER STR 74\", \"house_number\": \"\", \"post_code\": 67061, \"city\": \"LUDWIGSHAFEN\", \"latitude\": 49.463779, \"longitude\": 8.436507, \"first_active\": \"\", \"openingtimes_json\": null}\n",
      "{\"date\": \"2020-11-09 15:35:12+01\", \"station_uuid\": \"7ffcab6b-358a-4309-ace7-92cd8a20bc81\", \"diesel\": 1.029, \"e10\": 1.149, \"e5\": 1.199}\n",
      "{\"uuid\": \"7ffcab6b-358a-4309-ace7-92cd8a20bc81\", \"name\": \"Aral Tankstelle\", \"brand\": \"ARAL\", \"street\": \"Steubenstra\\u00dfe\", \"house_number\": \"48\", \"post_code\": 68163, \"city\": \"Mannheim\", \"latitude\": 49.46074, \"longitude\": 8.478127, \"first_active\": \"\", \"openingtimes_json\": null}\n",
      "{\"date\": \"2020-11-09 15:35:12+01\", \"station_uuid\": \"51d4b607-a095-1aa0-e100-80009459e03a\", \"diesel\": 1.019, \"e10\": 1.119, \"e5\": 1.169}\n",
      "{\"uuid\": \"51d4b607-a095-1aa0-e100-80009459e03a\", \"name\": \"JET MANNHEIM NECKARAUER STR. 98\", \"brand\": \"JET\", \"street\": \"NECKARAUER STR. 98\", \"house_number\": \"\", \"post_code\": 68199, \"city\": \"MANNHEIM\", \"latitude\": 49.46323, \"longitude\": 8.48914, \"first_active\": \"\", \"openingtimes_json\": null}\n",
      "{\"date\": \"2020-11-09 15:35:12+01\", \"station_uuid\": \"3863e27a-b867-44c8-b1e8-f8cc703c220c\", \"diesel\": 1.009, \"e10\": 1.119, \"e5\": 1.169}\n",
      "{\"uuid\": \"3863e27a-b867-44c8-b1e8-f8cc703c220c\", \"name\": \"SB Mannheim Waldstra\\u00dfe 58-62\", \"brand\": \"SB\", \"street\": \"Waldstra\\u00dfe\", \"house_number\": \"58-62\", \"post_code\": 68305, \"city\": \"Mannheim\", \"latitude\": 49.528005, \"longitude\": 8.490205, \"first_active\": \"\", \"openingtimes_json\": null}\n",
      "{\"date\": \"2020-11-09 15:35:12+01\", \"station_uuid\": \"e1a15081-25b6-9107-e040-0b0a3dfe563c\", \"diesel\": 0.979, \"e10\": 1.119, \"e5\": 1.169}\n",
      "{\"uuid\": \"e1a15081-25b6-9107-e040-0b0a3dfe563c\", \"name\": \"Ludwigshafen, Industriestr. 51\", \"brand\": \"HEM\", \"street\": \"Industriestr.\", \"house_number\": \"51\", \"post_code\": 67063, \"city\": \"Ludwigshafen\", \"latitude\": 49.4884, \"longitude\": 8.4048, \"first_active\": \"\", \"openingtimes_json\": null}\n",
      "{\"date\": \"2020-11-09 15:35:12+01\", \"station_uuid\": \"9bdc3748-a7ea-4b57-80e1-e22f138bc2b0\", \"diesel\": 1.019, \"e10\": 1.159, \"e5\": 1.209}\n",
      "{\"uuid\": \"9bdc3748-a7ea-4b57-80e1-e22f138bc2b0\", \"name\": \"Aral Tankstelle\", \"brand\": \"ARAL\", \"street\": \"Waldstra\\u00dfe\", \"house_number\": \"48-56\", \"post_code\": 68305, \"city\": \"Mannheim\", \"latitude\": 49.52823, \"longitude\": 8.489984, \"first_active\": \"\", \"openingtimes_json\": null}\n",
      "{\"date\": \"2020-11-09 15:35:12+01\", \"station_uuid\": \"51d4b603-a095-1aa0-e100-80009459e03a\", \"diesel\": 0.979, \"e10\": 1.119, \"e5\": 1.169}\n",
      "{\"uuid\": \"51d4b603-a095-1aa0-e100-80009459e03a\", \"name\": \"JET LUDWIGSHAFEN BRUCHWIESENSTR. 146\", \"brand\": \"JET\", \"street\": \"BRUCHWIESENSTR. 146\", \"house_number\": \"\", \"post_code\": 67059, \"city\": \"LUDWIGSHAFEN\", \"latitude\": 49.4682, \"longitude\": 8.42047, \"first_active\": \"\", \"openingtimes_json\": null}\n",
      "{\"date\": \"2020-11-09 15:35:12+01\", \"station_uuid\": \"e1a15081-25ab-9107-e040-0b0a3dfe563c\", \"diesel\": 1.009, \"e10\": 1.119, \"e5\": 1.169}\n",
      "{\"uuid\": \"e1a15081-25ab-9107-e040-0b0a3dfe563c\", \"name\": \"Mannheim, Waldstr. 172\", \"brand\": \"HEM\", \"street\": \"Waldstr.\", \"house_number\": \"172\", \"post_code\": 68305, \"city\": \"Mannheim\", \"latitude\": 49.523167, \"longitude\": 8.502237, \"first_active\": \"\", \"openingtimes_json\": null}\n",
      "{\"date\": \"2020-11-09 15:35:12+01\", \"station_uuid\": \"21be1b9c-5eb7-4a6e-83fe-951149d252fc\", \"diesel\": 1.029, \"e10\": 1.139, \"e5\": 1.189}\n",
      "{\"uuid\": \"21be1b9c-5eb7-4a6e-83fe-951149d252fc\", \"name\": \"Esso Tankstelle\", \"brand\": \"ESSO\", \"street\": \"STEUBENSTR. 89-91\", \"house_number\": \"\", \"post_code\": 68199, \"city\": \"MANNHEIM\", \"latitude\": 49.45771738, \"longitude\": 8.480838425, \"first_active\": \"\", \"openingtimes_json\": null}\n",
      "{\"date\": \"2020-11-09 15:35:12+01\", \"station_uuid\": \"8210437c-c3e9-4b5a-a62a-8f18c2cee833\", \"diesel\": 0.999, \"e10\": 1.129, \"e5\": 1.179}\n",
      "{\"uuid\": \"8210437c-c3e9-4b5a-a62a-8f18c2cee833\", \"name\": \"Ludwigshafen Friesenheimer Strasse 47\", \"brand\": \"OMV\", \"street\": \"Friesenheimer Str.\", \"house_number\": \"47\", \"post_code\": 67069, \"city\": \"Ludwigshafen\", \"latitude\": 49.51519, \"longitude\": 8.40624, \"first_active\": \"\", \"openingtimes_json\": null}\n",
      "{\"date\": \"2020-11-09 15:35:12+01\", \"station_uuid\": \"51d4b57b-a095-1aa0-e100-80009459e03a\", \"diesel\": 1.009, \"e10\": 1.119, \"e5\": 1.169}\n",
      "{\"uuid\": \"51d4b57b-a095-1aa0-e100-80009459e03a\", \"name\": \"Supermarkt-Tankstelle MANNHEIM FLOSSWOERTHSTR. 30\", \"brand\": \"Supermarkt-Tankstelle\", \"street\": \"FLOSSWOERTHSTR. 30\", \"house_number\": \"\", \"post_code\": 68199, \"city\": \"MANNHEIM\", \"latitude\": 49.46028, \"longitude\": 8.49883, \"first_active\": \"\", \"openingtimes_json\": null}\n",
      "{\"date\": \"2020-11-09 15:35:12+01\", \"station_uuid\": \"dfbb6353-b29e-42cd-8a00-1c05fe273a78\", \"diesel\": 1.009, \"e10\": 1.139, \"e5\": 1.189}\n",
      "{\"uuid\": \"dfbb6353-b29e-42cd-8a00-1c05fe273a78\", \"name\": \"Aral Tankstelle\", \"brand\": \"ARAL\", \"street\": \"Wegelnburgstra\\u00dfe\", \"house_number\": \"27\", \"post_code\": 67065, \"city\": \"Ludwigshafen\", \"latitude\": 49.4571075, \"longitude\": 8.431821, \"first_active\": \"\", \"openingtimes_json\": null}\n",
      "{\"date\": \"2020-11-09 15:35:12+01\", \"station_uuid\": \"820738bb-d4f2-4743-8d1e-81dc521ceb91\", \"diesel\": 1.019, \"e10\": 1.149, \"e5\": 1.199}\n",
      "{\"uuid\": \"820738bb-d4f2-4743-8d1e-81dc521ceb91\", \"name\": \"Aral Tankstelle\", \"brand\": \"ARAL\", \"street\": \"Alter Postweg\", \"house_number\": \"4-6\", \"post_code\": 68309, \"city\": \"Mannheim\", \"latitude\": 49.5159645, \"longitude\": 8.520571, \"first_active\": \"\", \"openingtimes_json\": null}\n",
      "{\"date\": \"2020-11-09 15:35:12+01\", \"station_uuid\": \"3ec1e50e-aba5-436c-960a-423b2b8a37ed\", \"diesel\": 1.019, \"e10\": 1.149, \"e5\": 1.199}\n",
      "{\"uuid\": \"3ec1e50e-aba5-436c-960a-423b2b8a37ed\", \"name\": \"Aral Tankstelle\", \"brand\": \"ARAL\", \"street\": \"Brandenburger Str.\", \"house_number\": \"13-15\", \"post_code\": 68309, \"city\": \"Mannheim\", \"latitude\": 49.51207, \"longitude\": 8.529542, \"first_active\": \"\", \"openingtimes_json\": null}\n",
      "{\"date\": \"2020-11-09 15:35:12+01\", \"station_uuid\": \"fa9f33fa-732a-4722-85da-e46eba880c1b\", \"diesel\": 0.989, \"e10\": 1.129, \"e5\": 1.179}\n",
      "{\"uuid\": \"fa9f33fa-732a-4722-85da-e46eba880c1b\", \"name\": \"Esso Tankstelle\", \"brand\": \"ESSO\", \"street\": \"MAUDACHER STR. 194\", \"house_number\": \"\", \"post_code\": 67065, \"city\": \"LUDWIGSHAFEN AM RHEIN\", \"latitude\": 49.46051, \"longitude\": 8.411643, \"first_active\": \"\", \"openingtimes_json\": null}\n",
      "{\"date\": \"2020-11-09 15:35:12+01\", \"station_uuid\": \"e6da7859-c6d2-4087-9167-e623721f1f00\", \"diesel\": 0.999, \"e10\": 1.129, \"e5\": 1.179}\n",
      "{\"uuid\": \"e6da7859-c6d2-4087-9167-e623721f1f00\", \"name\": \"Shell Ludwigshafen Am Rhein Mannheimer Str. 85\", \"brand\": \"Shell\", \"street\": \"Mannheimer Str.\", \"house_number\": \"85\", \"post_code\": 67071, \"city\": \"Ludwigshafen Am Rhein\", \"latitude\": 49.488566, \"longitude\": 8.38895, \"first_active\": \"\", \"openingtimes_json\": null}\n",
      "{\"date\": \"2020-11-09 15:35:12+01\", \"station_uuid\": \"51d4b4e4-a095-1aa0-e100-80009459e03a\", \"diesel\": 0.989, \"e10\": 1.119, \"e5\": 1.169}\n",
      "{\"uuid\": \"51d4b4e4-a095-1aa0-e100-80009459e03a\", \"name\": \"JET LUDWIGSHAFEN MANNHEIMER STR. 61\", \"brand\": \"JET\", \"street\": \"MANNHEIMER STR. 61\", \"house_number\": \"\", \"post_code\": 67071, \"city\": \"LUDWIGSHAFEN\", \"latitude\": 49.489012, \"longitude\": 8.384065, \"first_active\": \"\", \"openingtimes_json\": null}\n",
      "{\"date\": \"2020-11-09 15:35:12+01\", \"station_uuid\": \"76165ca6-3b50-4d24-854a-f079f26321e8\", \"diesel\": 1.009, \"e10\": 1.129, \"e5\": 1.179}\n",
      "{\"uuid\": \"76165ca6-3b50-4d24-854a-f079f26321e8\", \"name\": \"Aral Tankstelle\", \"brand\": \"ARAL\", \"street\": \"Pr\\u00e4lat-Caire-Stra\\u00dfe\", \"house_number\": \"14\", \"post_code\": 67071, \"city\": \"Ludwigshafen\", \"latitude\": 49.49206, \"longitude\": 8.383311, \"first_active\": \"\", \"openingtimes_json\": null}\n",
      "{\"date\": \"2020-11-09 15:35:12+01\", \"station_uuid\": \"2cf7753d-b6e8-4d41-95c3-8038e19a0e65\", \"diesel\": 1.009, \"e10\": 1.129, \"e5\": 1.179}\n",
      "{\"uuid\": \"2cf7753d-b6e8-4d41-95c3-8038e19a0e65\", \"name\": \"Volker Lautensack\", \"brand\": \"bft\", \"street\": \"Lilienthalstr.\", \"house_number\": \"210\", \"post_code\": 68307, \"city\": \"Mannheim\", \"latitude\": 49.5462, \"longitude\": 8.46913, \"first_active\": \"\", \"openingtimes_json\": null}\n",
      "{\"date\": \"2020-11-09 15:35:12+01\", \"station_uuid\": \"c393f0a6-2197-403a-ac89-e6a59be3ff50\", \"diesel\": 0.989, \"e10\": 1.119, \"e5\": 1.169}\n",
      "{\"uuid\": \"c393f0a6-2197-403a-ac89-e6a59be3ff50\", \"name\": \"TOTAL LUDWIGSHAFEN\", \"brand\": \"TOTAL\", \"street\": \"HAUPTSTR. 257\", \"house_number\": \"\", \"post_code\": 67065, \"city\": \"LUDWIGSHAFEN\", \"latitude\": 49.450165, \"longitude\": 8.423482, \"first_active\": \"\", \"openingtimes_json\": null}\n",
      "{\"date\": \"2020-11-09 15:35:12+01\", \"station_uuid\": \"786ddd09-ff4d-4863-a724-0b4850e60a77\", \"diesel\": 1.019, \"e10\": 1.119, \"e5\": 1.169}\n",
      "{\"uuid\": \"786ddd09-ff4d-4863-a724-0b4850e60a77\", \"name\": \"Giovanni Brucculeri\", \"brand\": \"bft\", \"street\": \"Casterfeldstr.\", \"house_number\": \"\", \"post_code\": 68199, \"city\": \"Mannheim\", \"latitude\": 49.4491, \"longitude\": 8.50214, \"first_active\": \"\", \"openingtimes_json\": null}\n",
      "{\"date\": \"2020-11-09 15:35:12+01\", \"station_uuid\": \"cbce0ea0-12da-4e3a-a42d-af57bee17ce7\", \"diesel\": 1.009, \"e10\": 1.119, \"e5\": 1.169}\n",
      "{\"uuid\": \"cbce0ea0-12da-4e3a-a42d-af57bee17ce7\", \"name\": \"Tankstelle am E-Center\", \"brand\": \"E Center\", \"street\": \"Seckenheimer Landstr. 246\", \"house_number\": \"\", \"post_code\": 68163, \"city\": \"Mannheim-Neuostheim\", \"latitude\": 49.47353, \"longitude\": 8.536847, \"first_active\": \"\", \"openingtimes_json\": null}\n",
      "{\"date\": \"2020-11-09 15:35:12+01\", \"station_uuid\": \"5eb0a0a4-abf0-470d-977f-6c5105458e26\", \"diesel\": 1.009, \"e10\": 1.129, \"e5\": 1.179}\n",
      "{\"uuid\": \"5eb0a0a4-abf0-470d-977f-6c5105458e26\", \"name\": \"AVIA Xpress Automatentankstelle\", \"brand\": \"AVIA\", \"street\": \"Amselstr.\", \"house_number\": \"10\", \"post_code\": 68307, \"city\": \"Mannheim\", \"latitude\": 49.5495, \"longitude\": 8.457, \"first_active\": \"\", \"openingtimes_json\": null}\n",
      "{\"date\": \"2020-11-09 15:35:12+01\", \"station_uuid\": \"48be4d2e-4342-458b-a189-754e8f22e928\", \"diesel\": 1.029, \"e10\": 1.129, \"e5\": 1.179}\n",
      "{\"uuid\": \"48be4d2e-4342-458b-a189-754e8f22e928\", \"name\": \"Shell Mannheim Wallstadter Str. 72\", \"brand\": \"Shell\", \"street\": \"Wallstadter Str.\", \"house_number\": \"72\", \"post_code\": 68259, \"city\": \"Mannheim\", \"latitude\": 49.489077, \"longitude\": 8.544578, \"first_active\": \"\", \"openingtimes_json\": null}\n",
      "{\"date\": \"2020-11-09 15:35:12+01\", \"station_uuid\": \"f81e6e85-d353-40d5-b793-3d7421484cc5\", \"diesel\": 1.029, \"e10\": 1.139, \"e5\": 1.189}\n",
      "{\"uuid\": \"f81e6e85-d353-40d5-b793-3d7421484cc5\", \"name\": \"Esso Tankstelle\", \"brand\": \"ESSO\", \"street\": \"VIERNHEIMER WEG 15\", \"house_number\": \"\", \"post_code\": 68307, \"city\": \"MANNHEIM\", \"latitude\": 49.54950147, \"longitude\": 8.449381135, \"first_active\": \"\", \"openingtimes_json\": null}\n",
      "{\"date\": \"2020-11-09 15:35:12+01\", \"station_uuid\": \"07e07bdc-6b0d-461a-b4b5-88a680f5b229\", \"diesel\": 0.989, \"e10\": 1.119, \"e5\": 1.169}\n",
      "{\"uuid\": \"07e07bdc-6b0d-461a-b4b5-88a680f5b229\", \"name\": \"Shell Ludwigshafen Am Rhein Maudacher Str. 298\", \"brand\": \"Shell\", \"street\": \"Maudacher Str.\", \"house_number\": \"298\", \"post_code\": 67065, \"city\": \"Ludwigshafen Am Rhein\", \"latitude\": 49.457417, \"longitude\": 8.400015, \"first_active\": \"\", \"openingtimes_json\": null}\n",
      "{\"date\": \"2020-11-09 15:35:12+01\", \"station_uuid\": \"f2d46ca3-641b-44c3-8fe5-3c047026973f\", \"diesel\": 1.019, \"e10\": 1.149, \"e5\": 1.199}\n",
      "{\"uuid\": \"f2d46ca3-641b-44c3-8fe5-3c047026973f\", \"name\": \"Aral Tankstelle\", \"brand\": \"ARAL\", \"street\": \"Frankenthaler Stra\\u00dfe\", \"house_number\": \"86\", \"post_code\": 68307, \"city\": \"Mannheim\", \"latitude\": 49.5501137, \"longitude\": 8.449075, \"first_active\": \"\", \"openingtimes_json\": null}\n",
      "{\"date\": \"2020-11-09 15:35:12+01\", \"station_uuid\": \"fd0297ad-c29d-48ac-a33f-47f155103ae5\", \"diesel\": 0.989, \"e10\": 1.129, \"e5\": 1.179}\n",
      "{\"uuid\": \"fd0297ad-c29d-48ac-a33f-47f155103ae5\", \"name\": \"Regie-Tankstelle Ludwigshafen\", \"brand\": \"AVIA\", \"street\": \"Maudacher Str.\", \"house_number\": \"289\", \"post_code\": 67065, \"city\": \"Ludwigshafen\", \"latitude\": 49.457, \"longitude\": 8.40024, \"first_active\": \"\", \"openingtimes_json\": null}\n",
      "{\"date\": \"2020-11-09 15:35:12+01\", \"station_uuid\": \"e1a15081-25aa-9107-e040-0b0a3dfe563c\", \"diesel\": 1.009, \"e10\": 1.119, \"e5\": 1.169}\n",
      "{\"uuid\": \"e1a15081-25aa-9107-e040-0b0a3dfe563c\", \"name\": \"Mannheim, Magdeburger Str. 2\", \"brand\": \"HEM\", \"street\": \"Magdeburger Str.\", \"house_number\": \"2\", \"post_code\": 68309, \"city\": \"Mannheim\", \"latitude\": 49.514175, \"longitude\": 8.546299, \"first_active\": \"\", \"openingtimes_json\": null}\n",
      "{\"date\": \"2020-11-09 15:35:12+01\", \"station_uuid\": \"9f553817-0018-408c-9c23-4f5686419f5a\", \"diesel\": 1.019, \"e10\": 1.129, \"e5\": 1.179}\n",
      "{\"uuid\": \"9f553817-0018-408c-9c23-4f5686419f5a\", \"name\": \"MANNHEIM - MAGDEBURGER STRASSE\", \"brand\": \"Agip\", \"street\": \"Magdeburger Strasse\", \"house_number\": \"1\", \"post_code\": 68309, \"city\": \"Mannheim\", \"latitude\": 49.51429, \"longitude\": 8.54696, \"first_active\": \"\", \"openingtimes_json\": null}\n",
      "{\"date\": \"2020-11-09 15:35:12+01\", \"station_uuid\": \"3ebc84b4-42be-4f65-a6bd-cc1d38e71513\", \"diesel\": 0.999, \"e10\": 1.119, \"e5\": 1.169}\n",
      "{\"uuid\": \"3ebc84b4-42be-4f65-a6bd-cc1d38e71513\", \"name\": \"SB Ludwigshafen Oppauer Stra\\u00dfe 108\", \"brand\": \"SB\", \"street\": \"Oppauer Stra\\u00dfe\", \"house_number\": \"108\", \"post_code\": 67069, \"city\": \"Ludwigshafen\", \"latitude\": 49.533873, \"longitude\": 8.388695, \"first_active\": \"\", \"openingtimes_json\": null}\n",
      "{\"date\": \"2020-11-09 15:35:12+01\", \"station_uuid\": \"530cb248-0cec-43b6-9057-2d5179deb386\", \"diesel\": 1.009, \"e10\": 1.149, \"e5\": 1.199}\n",
      "{\"uuid\": \"530cb248-0cec-43b6-9057-2d5179deb386\", \"name\": \"Aral Tankstelle\", \"brand\": \"ARAL\", \"street\": \"Oppauer Stra\\u00dfe\", \"house_number\": \"125\", \"post_code\": 67069, \"city\": \"Ludwigshafen\", \"latitude\": 49.53402, \"longitude\": 8.388857, \"first_active\": \"\", \"openingtimes_json\": null}\n",
      "{\"date\": \"2020-11-09 15:35:12+01\", \"station_uuid\": \"dea14d8a-4166-408f-24e5-04547525f190\", \"diesel\": 0.999, \"e10\": 1.169, \"e5\": 1.219}\n",
      "{\"uuid\": \"dea14d8a-4166-408f-24e5-04547525f190\", \"name\": \"AKAY Tankstelle\", \"brand\": \"freie Tankstelle\", \"street\": \"Budapester Str.\", \"house_number\": \"3\", \"post_code\": 67069, \"city\": \"Ludwigshafen\", \"latitude\": 49.537636, \"longitude\": 8.391129, \"first_active\": \"\", \"openingtimes_json\": null}\n",
      "{\"date\": \"2020-11-09 15:35:12+01\", \"station_uuid\": \"a4885036-aac6-4d7b-8c8d-51257a86c29d\", \"diesel\": 1.019, \"e10\": 1.149, \"e5\": 1.199}\n",
      "{\"uuid\": \"a4885036-aac6-4d7b-8c8d-51257a86c29d\", \"name\": \"Aral Tankstelle\", \"brand\": \"ARAL\", \"street\": \"Bezirksstra\\u00dfe\", \"house_number\": \"16\", \"post_code\": 67122, \"city\": \"Altrip\", \"latitude\": 49.434967, \"longitude\": 8.484531, \"first_active\": \"\", \"openingtimes_json\": null}\n",
      "{\"date\": \"2020-11-09 15:35:12+01\", \"station_uuid\": \"1a4e6624-5f24-4136-8faf-b003f1aed04d\", \"diesel\": 0.999, \"e10\": 1.129, \"e5\": 1.179}\n",
      "{\"uuid\": \"1a4e6624-5f24-4136-8faf-b003f1aed04d\", \"name\": \"Esso Tankstelle\", \"brand\": \"ESSO\", \"street\": \"DUERKHEIMER STR. 91\", \"house_number\": \"\", \"post_code\": 67071, \"city\": \"LUDWIGSHAFEN AM RHEIN\", \"latitude\": 49.491457, \"longitude\": 8.364139, \"first_active\": \"\", \"openingtimes_json\": null}\n",
      "{\"date\": \"2020-11-09 15:35:12+01\", \"station_uuid\": \"51d4b58a-a095-1aa0-e100-80009459e03a\", \"diesel\": 0.999, \"e10\": 1.109, \"e5\": 1.159}\n",
      "{\"uuid\": \"51d4b58a-a095-1aa0-e100-80009459e03a\", \"name\": \"Supermarkt-Tankstelle am real,- Markt MANNHEIM SPREEWALDALLEE 38-40\", \"brand\": \"Supermarkt-Tankstelle am real,- Markt\", \"street\": \"SPREEWALDALLEE 38-40\", \"house_number\": \"\", \"post_code\": 68309, \"city\": \"MANNHEIM\", \"latitude\": 49.51493, \"longitude\": 8.55707, \"first_active\": \"\", \"openingtimes_json\": null}\n",
      "{\"date\": \"2020-11-09 15:35:12+01\", \"station_uuid\": \"51d4b69f-a095-1aa0-e100-80009459e03a\", \"diesel\": 0.979, \"e10\": 1.119, \"e5\": 1.169}\n",
      "{\"uuid\": \"51d4b69f-a095-1aa0-e100-80009459e03a\", \"name\": \"Supermarkt-Tankstelle LUDWIGSHAFEN OGGERSHEIM ODERSTR. 2\", \"brand\": \"Supermarkt-Tankstelle\", \"street\": \"ODERSTR. 2\", \"house_number\": \"\", \"post_code\": 67071, \"city\": \"LUDWIGSHAFEN OGGERSHEIM\", \"latitude\": 49.4913, \"longitude\": 8.35588, \"first_active\": \"\", \"openingtimes_json\": null}\n",
      "{\"date\": \"2020-11-09 15:35:12+01\", \"station_uuid\": \"e877c9b1-c5cb-4e54-8854-9e47f7e28b64\", \"diesel\": 1.039, \"e10\": 1.149, \"e5\": 1.199}\n",
      "{\"uuid\": \"e877c9b1-c5cb-4e54-8854-9e47f7e28b64\", \"name\": \"Aral Tankstelle\", \"brand\": \"ARAL\", \"street\": \"Relaisstra\\u00dfe\", \"house_number\": \"1-3\", \"post_code\": 68219, \"city\": \"Mannheim\", \"latitude\": 49.4383926, \"longitude\": 8.523771, \"first_active\": \"\", \"openingtimes_json\": null}\n",
      "{\"date\": \"2020-11-09 15:35:12+01\", \"station_uuid\": \"602a47f1-7182-46b6-bcf5-25c7a1d47572\", \"diesel\": 0.979, \"e10\": 1.109, \"e5\": 1.159}\n",
      "{\"uuid\": \"602a47f1-7182-46b6-bcf5-25c7a1d47572\", \"name\": \"ACCESS LUDWIGSHAFEN-MAUDACH\", \"brand\": \"Access\", \"street\": \"BERGSTR. 34\", \"house_number\": \"\", \"post_code\": 67067, \"city\": \"LUDWIGSHAFEN-MAUDACH\", \"latitude\": 49.453446, \"longitude\": 8.375457, \"first_active\": \"\", \"openingtimes_json\": null}\n",
      "{\"date\": \"2020-11-09 15:35:12+01\", \"station_uuid\": \"51d4b707-a095-1aa0-e100-80009459e03a\", \"diesel\": 1.009, \"e10\": 1.119, \"e5\": 1.169}\n",
      "{\"uuid\": \"51d4b707-a095-1aa0-e100-80009459e03a\", \"name\": \"JET VIERNHEIM MANNHEIMER STR. 125\", \"brand\": \"JET\", \"street\": \"MANNHEIMER STR. 125\", \"house_number\": \"\", \"post_code\": 68519, \"city\": \"VIERNHEIM\", \"latitude\": 49.5274, \"longitude\": 8.5619, \"first_active\": \"\", \"openingtimes_json\": null}\n",
      "{\"date\": \"2020-11-09 15:35:12+01\", \"station_uuid\": \"1bcc4077-99e8-473e-adbb-5f1745b1c614\", \"diesel\": 1.009, \"e10\": 1.119, \"e5\": 1.169}\n",
      "{\"uuid\": \"1bcc4077-99e8-473e-adbb-5f1745b1c614\", \"name\": \"Volker Lautensack\", \"brand\": \"AVIA\", \"street\": \"Br\\u00fcckenstr.\", \"house_number\": \"3\", \"post_code\": 68549, \"city\": \"Ilvesheim\", \"latitude\": 49.4697, \"longitude\": 8.56625, \"first_active\": \"\", \"openingtimes_json\": null}\n",
      "{\"date\": \"2020-11-09 15:35:12+01\", \"station_uuid\": \"400ce1d0-e095-47dd-a0fc-6073edd7c8d2\", \"diesel\": 0.989, \"e10\": 1.119, \"e5\": 1.169}\n",
      "{\"uuid\": \"400ce1d0-e095-47dd-a0fc-6073edd7c8d2\", \"name\": \"Globus Handelshof St. Wendel GmbH & Co. KG Betriebsst\\u00e4tte Ludwigshafen\", \"brand\": \"Globus SB Warenhaus\", \"street\": \"Oderstra\\u00dfe\", \"house_number\": \"6\", \"post_code\": 67061, \"city\": \"Ludwigshafen-Oggersheim\", \"latitude\": 49.48664, \"longitude\": 8.3493, \"first_active\": \"\", \"openingtimes_json\": null}\n",
      "{\"date\": \"2020-11-09 15:35:12+01\", \"station_uuid\": \"51d4b598-a095-1aa0-e100-80009459e03a\", \"diesel\": 0.999, \"e10\": 1.139, \"e5\": 1.189}\n",
      "{\"uuid\": \"51d4b598-a095-1aa0-e100-80009459e03a\", \"name\": \"JET FRANKENTHAL MAHLASTR. 89\", \"brand\": \"JET\", \"street\": \"MAHLASTR. 89\", \"house_number\": \"\", \"post_code\": 67227, \"city\": \"FRANKENTHAL\", \"latitude\": 49.5215, \"longitude\": 8.35485, \"first_active\": \"\", \"openingtimes_json\": null}\n",
      "{\"date\": \"2020-11-09 15:35:12+01\", \"station_uuid\": \"b344c82c-b7aa-4afa-8d47-af9219038847\", \"diesel\": 1.009, \"e10\": 1.149, \"e5\": 1.199}\n",
      "{\"uuid\": \"b344c82c-b7aa-4afa-8d47-af9219038847\", \"name\": \"Aral Tankstelle\", \"brand\": \"ARAL\", \"street\": \"Mahlastra\\u00dfe\", \"house_number\": \"37\", \"post_code\": 67227, \"city\": \"Frankenthal\", \"latitude\": 49.52605, \"longitude\": 8.354932, \"first_active\": \"\", \"openingtimes_json\": null}\n",
      "{\"date\": \"2020-11-09 15:35:12+01\", \"station_uuid\": \"da69a926-9f3c-41f6-8787-9b8248f04d36\", \"diesel\": 1.009, \"e10\": 1.129, \"e5\": 1.179}\n",
      "{\"uuid\": \"da69a926-9f3c-41f6-8787-9b8248f04d36\", \"name\": \"TOTAL MANNHEIM\", \"brand\": \"TOTAL\", \"street\": \"SCHWABENSTR. 41\", \"house_number\": \"\", \"post_code\": 68239, \"city\": \"MANNHEIM\", \"latitude\": 49.460773, \"longitude\": 8.569707, \"first_active\": \"\", \"openingtimes_json\": null}\n",
      "{\"date\": \"2020-11-09 15:35:12+01\", \"station_uuid\": \"b8d96d32-ba4e-4d6d-b14f-fb5c1b3b9179\", \"diesel\": 1.019, \"e10\": 1.129, \"e5\": 1.179}\n",
      "{\"uuid\": \"b8d96d32-ba4e-4d6d-b14f-fb5c1b3b9179\", \"name\": \"Shell Viernheim A659 Viernheim Sued\", \"brand\": \"Shell\", \"street\": \"A659 Viernheim Sued\", \"house_number\": \"\", \"post_code\": 68519, \"city\": \"Viernheim\", \"latitude\": 49.526547, \"longitude\": 8.572818, \"first_active\": \"\", \"openingtimes_json\": null}\n",
      "{\"date\": \"2020-11-09 15:35:12+01\", \"station_uuid\": \"7c0294a0-0268-4b4f-a5f4-6a2129a9116a\", \"diesel\": 1.009, \"e10\": 1.149, \"e5\": 1.199}\n",
      "{\"uuid\": \"7c0294a0-0268-4b4f-a5f4-6a2129a9116a\", \"name\": \"TOTAL FRANKENTHAL\", \"brand\": \"TOTAL\", \"street\": \"FOLTZRING 38-40\", \"house_number\": \"\", \"post_code\": 67227, \"city\": \"FRANKENTHAL\", \"latitude\": 49.537769, \"longitude\": 8.359031, \"first_active\": \"\", \"openingtimes_json\": null}\n",
      "{\"date\": \"2020-11-09 15:35:12+01\", \"station_uuid\": \"b6a3937b-bc37-43d4-b206-c31d6bb74300\", \"diesel\": 1.019, \"e10\": 1.119, \"e5\": 1.169}\n",
      "{\"uuid\": \"b6a3937b-bc37-43d4-b206-c31d6bb74300\", \"name\": \"Minera-Creditank Mannheim\", \"brand\": \"AVIA\", \"street\": \"Rotterdamer Str.\", \"house_number\": \"\", \"post_code\": 68219, \"city\": \"Mannheim\", \"latitude\": 49.4222, \"longitude\": 8.51495, \"first_active\": \"\", \"openingtimes_json\": null}\n",
      "{\"date\": \"2020-11-09 15:35:12+01\", \"station_uuid\": \"51d4b551-a095-1aa0-e100-80009459e03a\", \"diesel\": 0.989, \"e10\": 1.119, \"e5\": 1.169}\n",
      "{\"uuid\": \"51d4b551-a095-1aa0-e100-80009459e03a\", \"name\": \"JET MUTTERSTADT LUDWIGSHAFENER STR. 32\", \"brand\": \"JET\", \"street\": \"LUDWIGSHAFENER STR. 32\", \"house_number\": \"\", \"post_code\": 67112, \"city\": \"MUTTERSTADT\", \"latitude\": 49.4453, \"longitude\": 8.35814, \"first_active\": \"\", \"openingtimes_json\": null}\n",
      "{\"date\": \"2020-11-09 15:35:12+01\", \"station_uuid\": \"09c3e387-1b81-4c37-8b4b-a8dc01a38ca2\", \"diesel\": 1.009, \"e10\": 1.129, \"e5\": 1.179}\n",
      "{\"uuid\": \"09c3e387-1b81-4c37-8b4b-a8dc01a38ca2\", \"name\": \"Aral Tankstelle\", \"brand\": \"ARAL\", \"street\": \"Speyerer-Stra\\u00dfe\", \"house_number\": \"105a\", \"post_code\": 67117, \"city\": \"Limburgerhof\", \"latitude\": 49.4219627, \"longitude\": 8.394073, \"first_active\": \"\", \"openingtimes_json\": null}\n",
      "{\"date\": \"2020-11-09 15:35:12+01\", \"station_uuid\": \"2d449fb7-b190-4fd4-ac0b-12ea39309f63\", \"diesel\": 1.009, \"e10\": 1.189, \"e5\": 1.239}\n",
      "{\"uuid\": \"2d449fb7-b190-4fd4-ac0b-12ea39309f63\", \"name\": \"Esso Tankstelle\", \"brand\": \"ESSO\", \"street\": \"WORMSER STR. 116\", \"house_number\": \"\", \"post_code\": 67227, \"city\": \"FRANKENTHAL\", \"latitude\": 49.545442, \"longitude\": 8.353803, \"first_active\": \"\", \"openingtimes_json\": null}\n",
      "{\"date\": \"2020-11-09 15:35:12+01\", \"station_uuid\": \"1dc632bf-90c5-4971-8420-a74a842203c1\", \"diesel\": 1.019, \"e10\": 1.119, \"e5\": 1.169}\n",
      "{\"uuid\": \"1dc632bf-90c5-4971-8420-a74a842203c1\", \"name\": \"TOTAL MANNHEIM\", \"brand\": \"TOTAL\", \"street\": \"EDINGER RIEDWEG 8-12\", \"house_number\": \"\", \"post_code\": 68219, \"city\": \"MANNHEIM\", \"latitude\": 49.421773, \"longitude\": 8.534002, \"first_active\": \"\", \"openingtimes_json\": null}\n",
      "{\"date\": \"2020-11-09 15:35:12+01\", \"station_uuid\": \"50da58dd-ba70-41cd-94a9-3d3571cdc88c\", \"diesel\": 1.019, \"e10\": 1.129, \"e5\": 1.179}\n",
      "{\"uuid\": \"50da58dd-ba70-41cd-94a9-3d3571cdc88c\", \"name\": \"TOTAL VIERNHEIM\", \"brand\": \"TOTAL\", \"street\": \"WORMSER STR. 2\", \"house_number\": \"\", \"post_code\": 68519, \"city\": \"VIERNHEIM\", \"latitude\": 49.54346, \"longitude\": 8.574265, \"first_active\": \"\", \"openingtimes_json\": null}\n",
      "{\"date\": \"2020-11-09 15:35:12+01\", \"station_uuid\": \"bc96b410-a88c-4028-98e4-36625661bc75\", \"diesel\": 1.009, \"e10\": 1.149, \"e5\": 1.199}\n",
      "{\"uuid\": \"bc96b410-a88c-4028-98e4-36625661bc75\", \"name\": \"Aral Tankstelle\", \"brand\": \"ARAL\", \"street\": \"Wormser Stra\\u00dfe\", \"house_number\": \"128\", \"post_code\": 67227, \"city\": \"Frankenthal\", \"latitude\": 49.54836, \"longitude\": 8.353849, \"first_active\": \"\", \"openingtimes_json\": null}\n",
      "{\"date\": \"2020-11-09 15:35:12+01\", \"station_uuid\": \"beeb26a7-5d0c-4fd7-8de5-3f2f5bd48369\", \"diesel\": 0.999, \"e10\": 1.189, \"e5\": 1.199}\n",
      "{\"uuid\": \"beeb26a7-5d0c-4fd7-8de5-3f2f5bd48369\", \"name\": \"holz\", \"brand\": \"\", \"street\": \"Speyerer Stra\\u00dfe\", \"house_number\": \"138\", \"post_code\": 67112, \"city\": \"Mutterstadt\", \"latitude\": 49.434677, \"longitude\": 8.361736, \"first_active\": \"\", \"openingtimes_json\": null}\n",
      "{\"date\": \"2020-11-09 15:35:12+01\", \"station_uuid\": \"7999da6c-1390-4dfa-b260-05f526412fb3\", \"diesel\": 1.009, \"e10\": 1.189, \"e5\": 1.239}\n",
      "{\"uuid\": \"7999da6c-1390-4dfa-b260-05f526412fb3\", \"name\": \"Shell Frankenthal Wormser Str. 121\", \"brand\": \"Shell\", \"street\": \"Wormser Str.\", \"house_number\": \"121\", \"post_code\": 67227, \"city\": \"Frankenthal\", \"latitude\": 49.550742, \"longitude\": 8.352982, \"first_active\": \"\", \"openingtimes_json\": null}\n",
      "{\"date\": \"2020-11-09 15:35:12+01\", \"station_uuid\": \"10d13975-7819-4c49-86be-3465bfdc59f9\", \"diesel\": 1.009, \"e10\": 1.109, \"e5\": 1.159}\n",
      "{\"uuid\": \"10d13975-7819-4c49-86be-3465bfdc59f9\", \"name\": \"Shell Heddesheim Viernheimer Str. 24\", \"brand\": \"Shell\", \"street\": \"Viernheimer Str.\", \"house_number\": \"24\", \"post_code\": 68542, \"city\": \"Heddesheim\", \"latitude\": 49.508488, \"longitude\": 8.59823, \"first_active\": \"\", \"openingtimes_json\": null}\n"
     ]
    }
   ],
   "source": [
    "API_KEY = \"e82265a8-b634-ed81-69d2-82b1249c39ea\"\n",
    "BASE_URL = \"https://creativecommons.tankerkoenig.de/json/list.php?\"\n",
    "LAT=49.495411\n",
    "LNG=8.461562\n",
    "RAD=10.0\n",
    "response = requests.get(BASE_URL+\"lat=\"+str(LAT)+\"&lng=\"+str(LNG)+\"&rad=\"+str(RAD)+\"&type=all&apikey=\"+API_KEY)\n",
    "if response.status_code==200 and response.json()[\"ok\"] is True:\n",
    "    response = response.json()\n",
    "    results = response[\"stations\"]\n",
    "    for r in results:\n",
    "        add_price(date=datetime.datetime.now().strftime(\"%Y-%m-%d %H:%M:%S+01\"), uuid=r[\"id\"], diesel=r[\"diesel\"], e5=r[\"e5\"], e10=r[\"e10\"])\n",
    "        add_station(uuid=r[\"id\"],name=r[\"name\"],brand=r[\"brand\"],street=r[\"street\"], city=r[\"place\"], house_number=r[\"houseNumber\"], post_code=r[\"postCode\"], lat=r[\"lat\"],lng=r[\"lng\"])"
   ],
   "metadata": {
    "collapsed": false,
    "pycharm": {
     "name": "#%%\n"
    }
   }
  },
  {
   "cell_type": "markdown",
   "source": [
    "Close connection to producer"
   ],
   "metadata": {
    "collapsed": false,
    "pycharm": {
     "name": "#%% md\n"
    }
   }
  },
  {
   "cell_type": "code",
   "execution_count": 22,
   "outputs": [],
   "source": [
    "producer.close()"
   ],
   "metadata": {
    "collapsed": false,
    "pycharm": {
     "name": "#%%\n"
    }
   }
  },
  {
   "cell_type": "code",
   "execution_count": null,
   "outputs": [],
   "source": [],
   "metadata": {
    "collapsed": false,
    "pycharm": {
     "name": "#%%\n"
    }
   }
  }
 ],
 "metadata": {
  "kernelspec": {
   "display_name": "Python 3",
   "language": "python",
   "name": "python3"
  },
  "language_info": {
   "codemirror_mode": {
    "name": "ipython",
    "version": 3
   },
   "file_extension": ".py",
   "mimetype": "text/x-python",
   "name": "python",
   "nbconvert_exporter": "python",
   "pygments_lexer": "ipython3",
   "version": "3.8.3"
  }
 },
 "nbformat": 4,
 "nbformat_minor": 4
}