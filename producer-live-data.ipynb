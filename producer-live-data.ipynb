{
 "cells": [
  {
   "cell_type": "markdown",
   "metadata": {},
   "source": [
    "## Producer Script for Live-Data from API-Call"
   ]
  },
  {
   "cell_type": "markdown",
   "source": [
    "#### Imports"
   ],
   "metadata": {
    "collapsed": false,
    "pycharm": {
     "name": "#%% md\n"
    }
   }
  },
  {
   "cell_type": "code",
   "execution_count": null,
   "outputs": [],
   "source": [
    "from kafka import KafkaProducer, KafkaAdminClient\n",
    "from kafka.admin import NewTopic"
   ],
   "metadata": {
    "collapsed": false,
    "pycharm": {
     "name": "#%%\n"
    }
   }
  },
  {
   "cell_type": "code",
   "execution_count": 14,
   "outputs": [],
   "source": [
    "admin = KafkaAdminClient(bootstrap_servers=\"localhost:9092\")\n",
    "producer = KafkaProducer(bootstrap_servers=\"localhost:9092\")"
   ],
   "metadata": {
    "collapsed": false,
    "pycharm": {
     "name": "#%%\n"
    }
   }
  },
  {
   "cell_type": "markdown",
   "source": [
    "### Try to create topics"
   ],
   "metadata": {
    "collapsed": false,
    "pycharm": {
     "name": "#%% md\n"
    }
   }
  },
  {
   "cell_type": "code",
   "execution_count": null,
   "outputs": [],
   "source": [
    "if \"preise\" not in admin.list_topics() and \"stationen\" not in admin.list_topics():\n",
    "    new_topics= list()\n",
    "    new_topics.append(NewTopic(name=\"preise\", num_partitions=1, replication_factor=1))\n",
    "    new_topics.append(NewTopic(name=\"stationen\", num_partitions=1, replication_factor=1))\n",
    "    admin.create_topics(new_topics)"
   ],
   "metadata": {
    "collapsed": false,
    "pycharm": {
     "name": "#%%\n"
    }
   }
  },
  {
   "cell_type": "code",
   "execution_count": 15,
   "outputs": [],
   "source": [],
   "metadata": {
    "collapsed": false,
    "pycharm": {
     "name": "#%%\n"
    }
   }
  },
  {
   "cell_type": "code",
   "execution_count": null,
   "outputs": [],
   "source": [
    "producer.send(\"preise\", \"\"\"{\"date\": \"2020-01-01 00:00:04+01\",\n",
    "    \"station_uuid\": \"81d72fa3-5270-45af-816f-ba0abb7776f4\",\n",
    "    \"diesel\": \"1.319\",\n",
    "    \"e5\": \"1.469\",\n",
    "    \"e10\": \"1.449\",\n",
    "    \"dieselchange\": \"1\",\n",
    "    \"e5change\": \"0\",\n",
    "    \"e10change\": \"0\"}\"\"\".encode())\n",
    "producer.close()\n"
   ],
   "metadata": {
    "collapsed": false,
    "pycharm": {
     "name": "#%%\n"
    }
   }
  },
  {
   "cell_type": "code",
   "execution_count": null,
   "outputs": [],
   "source": [],
   "metadata": {
    "collapsed": false,
    "pycharm": {
     "name": "#%%\n"
    }
   }
  }
 ],
 "metadata": {
  "kernelspec": {
   "display_name": "Python 3",
   "language": "python",
   "name": "python3"
  },
  "language_info": {
   "codemirror_mode": {
    "name": "ipython",
    "version": 3
   },
   "file_extension": ".py",
   "mimetype": "text/x-python",
   "name": "python",
   "nbconvert_exporter": "python",
   "pygments_lexer": "ipython3",
   "version": "3.8.3"
  }
 },
 "nbformat": 4,
 "nbformat_minor": 4
}