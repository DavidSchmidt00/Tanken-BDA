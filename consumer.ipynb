{
 "cells": [
  {
   "cell_type": "markdown",
   "metadata": {},
   "source": [
    "## Consumer Script for Loading Data from Kafka in MongoDB"
   ]
  },
  {
   "cell_type": "code",
   "execution_count": 3,
   "outputs": [],
   "source": [
    "from kafka import KafkaAdminClient, KafkaConsumer\n",
    "from kafka.admin import NewTopic\n",
    "import pymongo\n",
    "import threading\n",
    "import json"
   ],
   "metadata": {
    "collapsed": false,
    "pycharm": {
     "name": "#%%\n"
    }
   }
  },
  {
   "cell_type": "code",
   "execution_count": 4,
   "outputs": [],
   "source": [
    "admin = KafkaAdminClient(bootstrap_servers=\"localhost:9092\")\n",
    "\n",
    "if \"preise\"not in admin.list_topics() and \"stationen\" not in admin.list_topics():\n",
    "    newTopics = list()\n",
    "    newTopics.append(NewTopic(name=\"preise\", num_partitions=1, replication_factor=1))\n",
    "    newTopics.append(NewTopic(name=\"stationen\", num_partitions=1, replication_factor=1))\n",
    "    admin.create_topics(newTopics)\n",
    "\n",
    "preisConsumer = KafkaConsumer(bootstrap_servers=[\"localhost:9092\"])\n",
    "preisConsumer.subscribe(\"preise\")\n",
    "\n",
    "tankeConsumer = KafkaConsumer(bootstrap_servers=[\"localhost:9092\"])\n",
    "tankeConsumer.subscribe(\"stationen\")\n",
    "\n",
    "client = pymongo.MongoClient('localhost', 27017)\n",
    "db = client.tanken\n",
    "preise = db.preise\n",
    "stationen = db.stationen"
   ],
   "metadata": {
    "collapsed": false,
    "pycharm": {
     "name": "#%%\n"
    }
   }
  },
  {
   "cell_type": "code",
   "execution_count": 5,
   "outputs": [],
   "source": [
    "def listenToConsumer(consumer, collection):\n",
    "    print(\"started \",collection.name,\" listener.\")\n",
    "    for msg in consumer:\n",
    "        item = json.loads(msg.value.decode(\"utf-8\"))\n",
    "        print(collection.name, \" msg: \",str(item))\n",
    "        if collection==preise:\n",
    "            collection.insert_one(item)\n",
    "        elif collection==stationen:\n",
    "            collection.update_one({\"uuid\":item[\"uuid\"]}, {\"$set\": item}, upsert=True)\n",
    "    print(\"finished consumer\")\n"
   ],
   "metadata": {
    "collapsed": false,
    "pycharm": {
     "name": "#%%\n"
    }
   }
  },
  {
   "cell_type": "code",
   "execution_count": 6,
   "outputs": [
    {
     "name": "stdout",
     "output_type": "stream",
     "text": [
      "started  preise  listener.\n",
      "started  stationen  listener.\n"
     ]
    }
   ],
   "source": [
    "#listenToConsumer(preisConsumer,preise)\n",
    "threading.Thread(target=listenToConsumer, args=(preisConsumer, preise)).start()\n",
    "threading.Thread(target=listenToConsumer, args=(tankeConsumer, stationen)).start()"
   ],
   "metadata": {
    "collapsed": false,
    "pycharm": {
     "name": "#%%\n"
    }
   }
  },
  {
   "cell_type": "code",
   "execution_count": null,
   "outputs": [],
   "source": [],
   "metadata": {
    "collapsed": false,
    "pycharm": {
     "name": "#%%\n"
    }
   }
  }
 ],
 "metadata": {
  "kernelspec": {
   "name": "python3",
   "language": "python",
   "display_name": "Python 3"
  },
  "language_info": {
   "codemirror_mode": {
    "name": "ipython",
    "version": 3
   },
   "file_extension": ".py",
   "mimetype": "text/x-python",
   "name": "python",
   "nbconvert_exporter": "python",
   "pygments_lexer": "ipython3",
   "version": "3.8.3"
  }
 },
 "nbformat": 4,
 "nbformat_minor": 4
}