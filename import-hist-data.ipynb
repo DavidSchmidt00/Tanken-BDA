{
 "cells": [
  {
   "cell_type": "markdown",
   "metadata": {},
   "source": [
    "## Import historical data to MongoDB"
   ]
  },
  {
   "cell_type": "code",
   "execution_count": 55,
   "metadata": {},
   "outputs": [],
   "source": [
    "import csv\n",
    "import logging\n",
    "import pymongo\n",
    "import os\n",
    "import codecs\n",
    "import threading\n",
    "\n",
    "inserted_uuids = set()\n",
    "\n",
    "logging.basicConfig(format='%(levelname)s: %(message)s', level=logging.DEBUG)"
   ]
  },
  {
   "cell_type": "code",
   "execution_count": 56,
   "outputs": [],
   "source": [
    "client = pymongo.MongoClient('localhost', 27017)\n",
    "try:\n",
    "    client.drop_database(\"tanken\")\n",
    "except:\n",
    "    pass\n",
    "db = client.tanken\n",
    "preise = db.preise\n",
    "stationen = db.stationen"
   ],
   "metadata": {
    "collapsed": false,
    "pycharm": {
     "name": "#%%\n"
    }
   }
  },
  {
   "cell_type": "code",
   "execution_count": 57,
   "outputs": [],
   "source": [
    "def load_csv(path):\n",
    "    with codecs.open(path,\"r\", \"utf-8\") as file:\n",
    "        return [row for row in csv.DictReader(file)]\n",
    "\n",
    "def load_and_insert_preis_csv(path, collection):\n",
    "    logging.info(\"Loading \"+ path)\n",
    "    data = load_csv(path)\n",
    "    logging.info(\"Loaded \"+ path+ \"! Inserting...\")\n",
    "    collection.insert_many(data)\n",
    "    logging.info(\"Inserted!\")\n",
    "\n",
    "def load_and_insert_station_csv(path, collection):\n",
    "    logging.info(\"Loading \"+ path)\n",
    "    data = load_csv(path)\n",
    "    cleared_data= list()\n",
    "    for d in data:\n",
    "        if d[\"uuid\"] not in inserted_uuids:\n",
    "            cleared_data.append(d)\n",
    "            inserted_uuids.add(d[\"uuid\"])\n",
    "    logging.info(\"Loaded \"+ path+ \"! Inserting...\")\n",
    "    if len(cleared_data)>0:\n",
    "        collection.insert_many(cleared_data)\n",
    "    logging.info(\"Inserted!\")\n",
    "\n",
    "\n",
    "def import_dataset(name, collection, function):\n",
    "    daten_dir = \"daten/\"\n",
    "\n",
    "    if not os.path.exists(daten_dir):\n",
    "        logging.error(\"Daten-Ordner nicht gefunden\")\n",
    "    else:\n",
    "        if name in os.listdir(daten_dir):\n",
    "            logging.info(\"Started import of \"+name)\n",
    "            for year in os.listdir(daten_dir+name+\"/\"):\n",
    "                logging.info(name +\" -> year:\"+ year)\n",
    "                for month in os.listdir(daten_dir+name+\"/\"+year):\n",
    "                    logging.info(name +\" -> month:\"+ month)\n",
    "                    for day in os.listdir(daten_dir+name+\"/\"+year+\"/\"+month):\n",
    "                        function(daten_dir+name+\"/\"+year+\"/\"+month+\"/\"+day, collection)\n",
    "    logging.info(\"Finished import of \"+name)\n"
   ],
   "metadata": {
    "collapsed": false,
    "pycharm": {
     "name": "#%%\n"
    }
   }
  },
  {
   "cell_type": "code",
   "execution_count": null,
   "outputs": [
    {
     "name": "stderr",
     "output_type": "stream",
     "text": [
      "INFO: Started import of preise\n",
      "INFO: preise -> year:2020\n",
      "INFO: preise -> month:01\n",
      "INFO: Loading daten/preise/2020/01/2020-01-01-prices.csv\n",
      "INFO: Loaded daten/preise/2020/01/2020-01-01-prices.csv! Inserting...\n",
      "INFO: Inserted!\n",
      "INFO: Loading daten/preise/2020/01/2020-01-02-prices.csv\n",
      "INFO: Loaded daten/preise/2020/01/2020-01-02-prices.csv! Inserting...\n",
      "INFO: Inserted!\n",
      "INFO: Loading daten/preise/2020/01/2020-01-03-prices.csv\n"
     ]
    }
   ],
   "source": [
    "import_dataset(\"preise\",preise,load_and_insert_preis_csv)\n",
    "import_dataset(\"stationen\",stationen,load_and_insert_station_csv)\n"
   ],
   "metadata": {
    "collapsed": false,
    "pycharm": {
     "name": "#%%\n",
     "is_executing": true
    }
   }
  },
  {
   "cell_type": "code",
   "execution_count": 53,
   "outputs": [],
   "source": [
    "for i in stationen.aggregate([{\"$group\": {\"_id\": \"$uuid\",\"count\": {\"$sum\": 1}}}]):\n",
    "    if i[\"count\"]!=1:\n",
    "        print(i)"
   ],
   "metadata": {
    "collapsed": false,
    "pycharm": {
     "name": "#%%\n"
    }
   }
  },
  {
   "cell_type": "code",
   "execution_count": null,
   "outputs": [],
   "source": [],
   "metadata": {
    "collapsed": false,
    "pycharm": {
     "name": "#%%\n"
    }
   }
  }
 ],
 "metadata": {
  "kernelspec": {
   "display_name": "Python 3",
   "language": "python",
   "name": "python3"
  },
  "language_info": {
   "codemirror_mode": {
    "name": "ipython",
    "version": 3
   },
   "file_extension": ".py",
   "mimetype": "text/x-python",
   "name": "python",
   "nbconvert_exporter": "python",
   "pygments_lexer": "ipython3",
   "version": "3.8.3"
  }
 },
 "nbformat": 4,
 "nbformat_minor": 4
}