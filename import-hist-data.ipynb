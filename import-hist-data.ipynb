{
 "cells": [
  {
   "cell_type": "markdown",
   "metadata": {},
   "source": [
    "## Import historical data to MongoDB\n",
    "\n",
    "#### Imports and basic configuration"
   ]
  },
  {
   "cell_type": "code",
   "execution_count": 1,
   "metadata": {},
   "outputs": [],
   "source": [
    "import csv\n",
    "import logging\n",
    "import pymongo\n",
    "import os\n",
    "import codecs\n",
    "import threading\n",
    "\n",
    "logging.basicConfig(format='%(levelname)s: %(message)s', level=logging.DEBUG)"
   ]
  },
  {
   "cell_type": "markdown",
   "source": [
    "#### MongoDB setup"
   ],
   "metadata": {
    "collapsed": false,
    "pycharm": {
     "name": "#%% md\n"
    }
   }
  },
  {
   "cell_type": "code",
   "execution_count": 2,
   "outputs": [],
   "source": [
    "client = pymongo.MongoClient('localhost', 27017)"
   ],
   "metadata": {
    "collapsed": false,
    "pycharm": {
     "name": "#%%\n"
    }
   }
  },
  {
   "cell_type": "code",
   "execution_count": 3,
   "outputs": [],
   "source": [
    "if input(\"Sicher, dass du alles löschen willst?\") in [\"y\",\"Y\",\"j\",\"J\"]:\n",
    "    try:\n",
    "        client.drop_database(\"tanken\")\n",
    "    except:\n",
    "        pass"
   ],
   "metadata": {
    "collapsed": false,
    "pycharm": {
     "name": "#%%\n"
    }
   }
  },
  {
   "cell_type": "code",
   "execution_count": 4,
   "outputs": [],
   "source": [
    "db = client.tanken\n",
    "preise = db.preise\n",
    "stationen = db.stationen"
   ],
   "metadata": {
    "collapsed": false,
    "pycharm": {
     "name": "#%%\n"
    }
   }
  },
  {
   "cell_type": "markdown",
   "source": [
    "#### Helper functions"
   ],
   "metadata": {
    "collapsed": false,
    "pycharm": {
     "name": "#%% md\n"
    }
   }
  },
  {
   "cell_type": "code",
   "execution_count": 5,
   "outputs": [],
   "source": [
    "inserted_uuids = set()\n",
    "\n",
    "def load_csv(path):\n",
    "    with codecs.open(path,\"r\", \"utf-8\") as file:\n",
    "        return [row for row in csv.DictReader(file)]\n",
    "\n",
    "def convert_types_prices(data):\n",
    "    for d in data:\n",
    "        try:\n",
    "            for key in list(d.keys()):\n",
    "                if key==\"diesel\":\n",
    "                    d[\"diesel\"] = float(d.get(\"diesel\"))\n",
    "                elif key==\"e5\":\n",
    "                    d[\"e5\"] = float(d.get(\"e5\"))\n",
    "                elif key==\"e10\":\n",
    "                    d[\"e10\"] = float(d.get(\"e10\"))\n",
    "                elif key==\"dieselchange\":\n",
    "                    d[\"dieselchange\"] = bool(d.get(\"dieselchange\"))\n",
    "                elif key==\"e10change\":\n",
    "                    d[\"e10change\"] = bool(d.get(\"e10change\"))\n",
    "                elif key==\"e5change\":\n",
    "                    d[\"e5change\"] = bool(d.get(\"e5change\"))\n",
    "        except Exception as e:\n",
    "            logging.error(\"Cant convert data\")\n",
    "\n",
    "def load_and_insert_prices_csv(path, collection):\n",
    "    logging.info(\"Loading \"+ path)\n",
    "    data = load_csv(path)\n",
    "    convert_types_prices(data)\n",
    "    for da in data:\n",
    "        del da[\"dieselchange\"]\n",
    "        del da[\"e10change\"]\n",
    "        del da[\"e5change\"]\n",
    "    logging.info(\"Loaded \"+ path+ \"! Inserting...\")\n",
    "    collection.insert_many(data)\n",
    "    logging.info(\"Inserted!\")\n",
    "\n",
    "def convert_types_stations(data):\n",
    "    pass\n",
    "\n",
    "def load_and_insert_stations_csv(path, collection):\n",
    "    logging.info(\"Loading \"+ path)\n",
    "    data = load_csv(path)\n",
    "    convert_types_stations(data)\n",
    "    cleared_data= list()\n",
    "    for d in data:\n",
    "        if d[\"uuid\"] not in inserted_uuids:\n",
    "            cleared_data.append(d)\n",
    "            inserted_uuids.add(d[\"uuid\"])\n",
    "    logging.info(\"Loaded \"+ path+ \"! Inserting...\")\n",
    "    if len(cleared_data)>0:\n",
    "        collection.insert_many(cleared_data)\n",
    "    logging.info(\"Inserted!\")\n",
    "\n",
    "\n",
    "def import_dataset(name, collection, function):\n",
    "    daten_dir = \"daten/\"\n",
    "\n",
    "    if not os.path.exists(daten_dir):\n",
    "        logging.error(\"Daten-Ordner nicht gefunden\")\n",
    "    else:\n",
    "        if name in os.listdir(daten_dir):\n",
    "            logging.info(\"Started import of \"+name)\n",
    "            for year in os.listdir(daten_dir+name+\"/\"):\n",
    "                logging.info(name +\" -> year:\"+ year)\n",
    "                for month in os.listdir(daten_dir+name+\"/\"+year):\n",
    "                    logging.info(name +\" -> month:\"+ month)\n",
    "                    for day in os.listdir(daten_dir+name+\"/\"+year+\"/\"+month):\n",
    "                        function(daten_dir+name+\"/\"+year+\"/\"+month+\"/\"+day, collection)\n",
    "    logging.info(\"Finished import of \"+name)"
   ],
   "metadata": {
    "collapsed": false,
    "pycharm": {
     "name": "#%%\n"
    }
   }
  },
  {
   "cell_type": "markdown",
   "source": [
    "#### Import execution"
   ],
   "metadata": {
    "collapsed": false,
    "pycharm": {
     "name": "#%% md\n"
    }
   }
  },
  {
   "cell_type": "code",
   "execution_count": null,
   "outputs": [
    {
     "name": "stderr",
     "output_type": "stream",
     "text": [
      "INFO: Started import of preise\n",
      "INFO: preise -> year:2020\n",
      "INFO: preise -> month:01\n",
      "INFO: Loading daten/preise/2020/01/2020-01-01-prices.csv\n",
      "INFO: Loaded daten/preise/2020/01/2020-01-01-prices.csv! Inserting...\n",
      "INFO: Inserted!\n",
      "INFO: Loading daten/preise/2020/01/2020-01-02-prices.csv\n",
      "INFO: Loaded daten/preise/2020/01/2020-01-02-prices.csv! Inserting...\n",
      "INFO: Inserted!\n",
      "INFO: Loading daten/preise/2020/01/2020-01-03-prices.csv\n",
      "INFO: Loaded daten/preise/2020/01/2020-01-03-prices.csv! Inserting...\n",
      "INFO: Inserted!\n",
      "INFO: Loading daten/preise/2020/01/2020-01-04-prices.csv\n",
      "INFO: Loaded daten/preise/2020/01/2020-01-04-prices.csv! Inserting...\n",
      "INFO: Inserted!\n",
      "INFO: Loading daten/preise/2020/01/2020-01-05-prices.csv\n",
      "INFO: Loaded daten/preise/2020/01/2020-01-05-prices.csv! Inserting...\n",
      "INFO: Inserted!\n",
      "INFO: Loading daten/preise/2020/01/2020-01-06-prices.csv\n",
      "INFO: Loaded daten/preise/2020/01/2020-01-06-prices.csv! Inserting...\n"
     ]
    }
   ],
   "source": [
    "import_dataset(\"preise\",preise,load_and_insert_prices_csv)\n",
    "import_dataset(\"stationen\",stationen,load_and_insert_stations_csv)"
   ],
   "metadata": {
    "collapsed": false,
    "pycharm": {
     "name": "#%%\n",
     "is_executing": true
    }
   }
  },
  {
   "cell_type": "markdown",
   "source": [
    "#### Analyse imported data\n",
    "Find duplicates in stations collection:"
   ],
   "metadata": {
    "collapsed": false,
    "pycharm": {
     "name": "#%% md\n"
    }
   }
  },
  {
   "cell_type": "code",
   "execution_count": 30,
   "outputs": [],
   "source": [
    "for i in stationen.aggregate([{\"$group\": {\"_id\": \"$uuid\",\"count\": {\"$sum\": 1}}}]):\n",
    "    if i[\"count\"]!=1:\n",
    "        print(i)"
   ],
   "metadata": {
    "collapsed": false,
    "pycharm": {
     "name": "#%%\n"
    }
   }
  },
  {
   "cell_type": "code",
   "execution_count": 16,
   "outputs": [
    {
     "name": "stdout",
     "output_type": "stream",
     "text": [
      "{'_id': ObjectId('5fa860d91c4f7224e168c202'), 'date': '2020-01-01 00:00:04+01', 'station_uuid': '123456', 'diesel': '1.319', 'e5': '1.469', 'e10': '1.449', 'dieselchange': '1', 'e5change': '0', 'e10change': '0'}\n"
     ]
    }
   ],
   "source": [
    "print(preise.find_one({\"station_uuid\":\"123456\"}))"
   ],
   "metadata": {
    "collapsed": false,
    "pycharm": {
     "name": "#%%\n"
    }
   }
  },
  {
   "cell_type": "code",
   "execution_count": 23,
   "outputs": [
    {
     "name": "stdout",
     "output_type": "stream",
     "text": [
      "{'date': '2020-01-01 00:00:04+01', 'station_uuid': '81d72fa3-5270-45af-816f-ba0abb7776f4', 'diesel': 1.319, 'e5': 1.469, 'e10': 1.449, 'dieselchange': True, 'e5change': True, 'e10change': True}\n"
     ]
    }
   ],
   "source": [
    "d = load_csv(\"daten/preise/2020/01/2020-01-01-prices.csv\")\n",
    "convert_types_prices(d)\n",
    "print(d[0])"
   ],
   "metadata": {
    "collapsed": false,
    "pycharm": {
     "name": "#%%\n"
    }
   }
  },
  {
   "cell_type": "code",
   "execution_count": null,
   "outputs": [],
   "source": [],
   "metadata": {
    "collapsed": false,
    "pycharm": {
     "name": "#%%\n"
    }
   }
  }
 ],
 "metadata": {
  "kernelspec": {
   "display_name": "Python 3",
   "language": "python",
   "name": "python3"
  },
  "language_info": {
   "codemirror_mode": {
    "name": "ipython",
    "version": 3
   },
   "file_extension": ".py",
   "mimetype": "text/x-python",
   "name": "python",
   "nbconvert_exporter": "python",
   "pygments_lexer": "ipython3",
   "version": "3.8.3"
  }
 },
 "nbformat": 4,
 "nbformat_minor": 4
}